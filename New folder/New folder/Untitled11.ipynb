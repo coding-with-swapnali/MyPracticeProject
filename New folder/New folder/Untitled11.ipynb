{
 "cells": [
  {
   "cell_type": "code",
   "execution_count": 37,
   "metadata": {},
   "outputs": [
    {
     "name": "stdout",
     "output_type": "stream",
     "text": [
      "one 3\n",
      "two 3\n",
      "Three 5\n",
      "Four 4\n",
      "Eleven 6\n",
      "Sixteen 7\n",
      "Hundread 8\n"
     ]
    }
   ],
   "source": [
    "l1 = ['one', 'two', 'Three', 'Four', 'Eleven', 'Sixteen', 'Hundread']\n",
    "\n",
    "for i in l1:\n",
    "    if type(i)==str:\n",
    "        count=0\n",
    "        print(i,len(i))\n",
    "        count+=1\n",
    "[for i in l1 if type(i)==str]       \n",
    "        \n",
    "        \n",
    "        "
   ]
  },
  {
   "cell_type": "code",
   "execution_count": 11,
   "metadata": {},
   "outputs": [
    {
     "name": "stdout",
     "output_type": "stream",
     "text": [
      "{'aa': 1, 'bb': 3, 'cc': 2}\n"
     ]
    }
   ],
   "source": [
    "l = [\"aa\",\"bb\",\"cc\",\"bb\",\"bb\",\"cc\"]\n",
    "dict1 = {}\n",
    "for i in l:\n",
    "    if i in dict1:\n",
    "        dict1[i]=dict1[i]+1\n",
    "    else:\n",
    "        dict1[i]=1\n",
    "print(dict1)  "
   ]
  },
  {
   "cell_type": "code",
   "execution_count": 26,
   "metadata": {},
   "outputs": [
    {
     "data": {
      "text/plain": [
       "{('aa', 1), ('bb', 3), ('cc', 2)}"
      ]
     },
     "execution_count": 26,
     "metadata": {},
     "output_type": "execute_result"
    }
   ],
   "source": [
    "{(k,l.count(k)) for k in l if k in dict1 }"
   ]
  },
  {
   "cell_type": "code",
   "execution_count": 38,
   "metadata": {},
   "outputs": [],
   "source": [
    "a=5"
   ]
  },
  {
   "cell_type": "code",
   "execution_count": 42,
   "metadata": {},
   "outputs": [
    {
     "name": "stderr",
     "output_type": "stream",
     "text": [
      "<>:1: SyntaxWarning: \"is\" with a literal. Did you mean \"==\"?\n",
      "<>:1: SyntaxWarning: \"is\" with a literal. Did you mean \"==\"?\n",
      "<ipython-input-42-80e6b7447efe>:1: SyntaxWarning: \"is\" with a literal. Did you mean \"==\"?\n",
      "  a is 5\n"
     ]
    },
    {
     "data": {
      "text/plain": [
       "True"
      ]
     },
     "execution_count": 42,
     "metadata": {},
     "output_type": "execute_result"
    }
   ],
   "source": [
    "a is 5"
   ]
  },
  {
   "cell_type": "code",
   "execution_count": 43,
   "metadata": {},
   "outputs": [
    {
     "data": {
      "text/plain": [
       "False"
      ]
     },
     "execution_count": 43,
     "metadata": {},
     "output_type": "execute_result"
    }
   ],
   "source": [
    "a == True"
   ]
  },
  {
   "cell_type": "code",
   "execution_count": null,
   "metadata": {},
   "outputs": [],
   "source": []
  }
 ],
 "metadata": {
  "kernelspec": {
   "display_name": "Python 3",
   "language": "python",
   "name": "python3"
  },
  "language_info": {
   "codemirror_mode": {
    "name": "ipython",
    "version": 3
   },
   "file_extension": ".py",
   "mimetype": "text/x-python",
   "name": "python",
   "nbconvert_exporter": "python",
   "pygments_lexer": "ipython3",
   "version": "3.8.5"
  }
 },
 "nbformat": 4,
 "nbformat_minor": 4
}
