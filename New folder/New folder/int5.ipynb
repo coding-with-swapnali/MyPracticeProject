{
 "cells": [
  {
   "cell_type": "code",
   "execution_count": null,
   "metadata": {},
   "outputs": [],
   "source": [
    "Array of size n-1. It contains integers from 1 to n. No duplicate values\n",
    "\n",
    "\n",
    "Find the missing integer in a best possible way, provided array is not sorted\n",
    "input: [4,1,6,2,3] output: 5\n",
    "        \n",
    "        \n",
    "        "
   ]
  },
  {
   "cell_type": "code",
   "execution_count": 5,
   "metadata": {},
   "outputs": [
    {
     "name": "stdout",
     "output_type": "stream",
     "text": [
      "5\n"
     ]
    }
   ],
   "source": [
    "list1 = [1,2,3,4,6]\n",
    "for i in range(1,6):\n",
    "    if i not in list1:\n",
    "        print(i)\n",
    "    "
   ]
  },
  {
   "cell_type": "code",
   "execution_count": 5,
   "metadata": {},
   "outputs": [],
   "source": [
    "\n",
    "program to print all Prime numbers till the given number N\n",
    "input:\n",
    "3\n",
    "output:\n",
    "2,3\n",
    "\n",
    "input:\n",
    "15\n",
    "output:\n",
    "2,3,5,7,11,13"
   ]
  },
  {
   "cell_type": "code",
   "execution_count": 11,
   "metadata": {},
   "outputs": [],
   "source": [
    "\n",
    "def MakePrime(num):\n",
    "    i=0\n",
    "    while i<num:\n",
    "        if num%2!=0:\n",
    "            print(num) \n",
    "            i+=1\n",
    "        \n",
    "            \n",
    "        \n",
    "        \n",
    "    \n",
    "    \n",
    "        \n",
    "        \n",
    "        \n",
    "    "
   ]
  },
  {
   "cell_type": "code",
   "execution_count": 3,
   "metadata": {},
   "outputs": [
    {
     "name": "stdout",
     "output_type": "stream",
     "text": [
      "Enter the number..34\n",
      "1\n",
      "3\n",
      "5\n",
      "7\n",
      "9\n",
      "11\n",
      "13\n",
      "15\n",
      "17\n",
      "19\n",
      "21\n",
      "23\n",
      "25\n",
      "27\n",
      "29\n",
      "31\n",
      "33\n"
     ]
    }
   ],
   "source": [
    "def MakePrime():\n",
    "    num = int(input(\"Enter the number..\"))\n",
    "    for i in range(num):\n",
    "        if i%2!=0:\n",
    "            print(i)\n",
    "MakePrime()            \n",
    "            \n",
    "        "
   ]
  },
  {
   "cell_type": "code",
   "execution_count": 17,
   "metadata": {},
   "outputs": [
    {
     "data": {
      "text/plain": [
       "[None, None, None, None, None, None]"
      ]
     },
     "execution_count": 17,
     "metadata": {},
     "output_type": "execute_result"
    }
   ],
   "source": [
    "l=[1,2,3,2,3,1,3,4,5,6]\n",
    "newList = []\n",
    "n = [newList.append(i) for i in l if i not in newList]\n"
   ]
  },
  {
   "cell_type": "code",
   "execution_count": 11,
   "metadata": {},
   "outputs": [
    {
     "name": "stdout",
     "output_type": "stream",
     "text": [
      "[1, 2, 3, 4, 5, 6]\n"
     ]
    }
   ],
   "source": [
    "for i in l:\n",
    "    if i not in newList:\n",
    "        newList.append(i)\n",
    "print(newList)    "
   ]
  },
  {
   "cell_type": "code",
   "execution_count": 24,
   "metadata": {},
   "outputs": [],
   "source": [
    "import logging\n",
    "with open(r\"C:/Users/Admin/Desktop/New folder/file1.txt\",\"r\") as file:\n",
    "    content = file.read()"
   ]
  },
  {
   "cell_type": "code",
   "execution_count": 35,
   "metadata": {},
   "outputs": [],
   "source": [
    "newContent = content.split(\" \")"
   ]
  },
  {
   "cell_type": "code",
   "execution_count": 36,
   "metadata": {},
   "outputs": [
    {
     "name": "stdout",
     "output_type": "stream",
     "text": [
      "Hello\n",
      "world\n",
      "This\n",
      "is\n",
      "the\n",
      "first\n",
      "line\n",
      "of\n",
      "the\n",
      "file\n",
      "This\n",
      "is\n",
      "the\n",
      "second\n",
      "line\n"
     ]
    }
   ],
   "source": [
    "for i in newContent:\n",
    "    print(i)"
   ]
  },
  {
   "cell_type": "code",
   "execution_count": 53,
   "metadata": {},
   "outputs": [],
   "source": [
    "name = logging.getLogger()"
   ]
  },
  {
   "cell_type": "code",
   "execution_count": 54,
   "metadata": {},
   "outputs": [
    {
     "data": {
      "text/plain": [
       "<RootLogger root (WARNING)>"
      ]
     },
     "execution_count": 54,
     "metadata": {},
     "output_type": "execute_result"
    }
   ],
   "source": [
    "name"
   ]
  },
  {
   "cell_type": "code",
   "execution_count": 55,
   "metadata": {},
   "outputs": [
    {
     "data": {
      "text/plain": [
       "<FileHandler C:\\Users\\Admin\\Desktop\\New folder\\Filename (NOTSET)>"
      ]
     },
     "execution_count": 55,
     "metadata": {},
     "output_type": "execute_result"
    }
   ],
   "source": [
    "logging.FileHandler(\"Filename\")"
   ]
  },
  {
   "cell_type": "code",
   "execution_count": 42,
   "metadata": {},
   "outputs": [],
   "source": [
    "n = logging.FileHandler(\"C:/Users/Admin/Desktop/New folder/file1.txt\")"
   ]
  },
  {
   "cell_type": "code",
   "execution_count": 60,
   "metadata": {},
   "outputs": [],
   "source": [
    "import os\n",
    "import logging\n",
    "l = logging.getLogger(os.path.basename(__name__))"
   ]
  },
  {
   "cell_type": "code",
   "execution_count": 61,
   "metadata": {},
   "outputs": [
    {
     "data": {
      "text/plain": [
       "<Logger __main__ (WARNING)>"
      ]
     },
     "execution_count": 61,
     "metadata": {},
     "output_type": "execute_result"
    }
   ],
   "source": [
    "l"
   ]
  },
  {
   "cell_type": "code",
   "execution_count": 75,
   "metadata": {},
   "outputs": [],
   "source": [
    "import  logging \n",
    "FORMAT = '%(asctime)s %(clientip)-15s %(user)-8s %(message)s'\n",
    "fileContent = logging.basicConfig(filename = \"C:/Users/Admin/Desktop/New folder/mylog.log.txt\",format = FORMAT,level=DEBUG)\n",
    "# warning(\"This is warning.....\")"
   ]
  },
  {
   "cell_type": "code",
   "execution_count": 77,
   "metadata": {},
   "outputs": [
    {
     "name": "stdout",
     "output_type": "stream",
     "text": [
      "['.ipynb_checkpoints', 'decor_and_os.ipynb', 'Dict_int_question.ipynb', 'exception.ipynb', 'file1.txt', 'Filename', 'generators.ipynb', 'int5.ipynb', 'intq5.ipynb', 'intq6.ipynb', 'intque.ipynb', 'Listexamples.ipynb', 'Nineleaps_interview.ipynb', 'pandas.ipynb', 'prac1.ipynb', 'time_decor_primeno.ipynb', 'Untitled.ipynb', 'Untitled1.ipynb', 'Untitled2.ipynb', 'Untitled3.ipynb', 'Untitled4.ipynb']\n"
     ]
    }
   ],
   "source": [
    "print(os.listdir(\"C:/Users/Admin/Desktop/New folder\"))"
   ]
  },
  {
   "cell_type": "code",
   "execution_count": 84,
   "metadata": {},
   "outputs": [],
   "source": [
    "dirs = (os.listdir(\"C:/Users/Admin/Desktop/New folder\")[0])"
   ]
  },
  {
   "cell_type": "code",
   "execution_count": 85,
   "metadata": {},
   "outputs": [
    {
     "data": {
      "text/plain": [
       "['decor_and_os-checkpoint.ipynb',\n",
       " 'Dict_int_question-checkpoint.ipynb',\n",
       " 'exception-checkpoint.ipynb',\n",
       " 'generators-checkpoint.ipynb',\n",
       " 'int5-checkpoint.ipynb',\n",
       " 'intq5-checkpoint.ipynb',\n",
       " 'intq6-checkpoint.ipynb',\n",
       " 'intque-checkpoint.ipynb',\n",
       " 'Listexamples-checkpoint.ipynb',\n",
       " 'Nineleaps_interview-checkpoint.ipynb',\n",
       " 'pandas-checkpoint.ipynb',\n",
       " 'prac1-checkpoint.ipynb',\n",
       " 'time_decor_primeno-checkpoint.ipynb',\n",
       " 'Untitled-checkpoint.ipynb',\n",
       " 'Untitled1-checkpoint.ipynb',\n",
       " 'Untitled2-checkpoint.ipynb',\n",
       " 'Untitled3-checkpoint.ipynb',\n",
       " 'Untitled4-checkpoint.ipynb']"
      ]
     },
     "execution_count": 85,
     "metadata": {},
     "output_type": "execute_result"
    }
   ],
   "source": [
    "os.listdir(\"C:/Users/Admin/Desktop/New folder/\"+dirs)"
   ]
  },
  {
   "cell_type": "code",
   "execution_count": 92,
   "metadata": {},
   "outputs": [],
   "source": [
    "dirs = os.listdir(\"C:/Users/Admin/Desktop/New folder\")[0]"
   ]
  },
  {
   "cell_type": "code",
   "execution_count": 93,
   "metadata": {},
   "outputs": [
    {
     "data": {
      "text/plain": [
       "['decor_and_os-checkpoint.ipynb',\n",
       " 'Dict_int_question-checkpoint.ipynb',\n",
       " 'exception-checkpoint.ipynb',\n",
       " 'generators-checkpoint.ipynb',\n",
       " 'int5-checkpoint.ipynb',\n",
       " 'intq5-checkpoint.ipynb',\n",
       " 'intq6-checkpoint.ipynb',\n",
       " 'intque-checkpoint.ipynb',\n",
       " 'Listexamples-checkpoint.ipynb',\n",
       " 'Nineleaps_interview-checkpoint.ipynb',\n",
       " 'pandas-checkpoint.ipynb',\n",
       " 'prac1-checkpoint.ipynb',\n",
       " 'time_decor_primeno-checkpoint.ipynb',\n",
       " 'Untitled-checkpoint.ipynb',\n",
       " 'Untitled1-checkpoint.ipynb',\n",
       " 'Untitled2-checkpoint.ipynb',\n",
       " 'Untitled3-checkpoint.ipynb',\n",
       " 'Untitled4-checkpoint.ipynb']"
      ]
     },
     "execution_count": 93,
     "metadata": {},
     "output_type": "execute_result"
    }
   ],
   "source": [
    "os.listdir(\"C:/Users/Admin/Desktop/New folder/\"+dirs)"
   ]
  },
  {
   "cell_type": "code",
   "execution_count": 94,
   "metadata": {},
   "outputs": [
    {
     "name": "stdout",
     "output_type": "stream",
     "text": [
      "Folders are:  C:/Users/Admin/Desktop/New folder/\n",
      "Sub Folders are:  ['.ipynb_checkpoints']\n",
      "Files s are:  ['decor_and_os.ipynb', 'Dict_int_question.ipynb', 'exception.ipynb', 'file1.txt', 'Filename', 'generators.ipynb', 'int5.ipynb', 'intq5.ipynb', 'intq6.ipynb', 'intque.ipynb', 'Listexamples.ipynb', 'Nineleaps_interview.ipynb', 'pandas.ipynb', 'prac1.ipynb', 'time_decor_primeno.ipynb', 'Untitled.ipynb', 'Untitled1.ipynb', 'Untitled2.ipynb', 'Untitled3.ipynb', 'Untitled4.ipynb']\n",
      "Folders are:  C:/Users/Admin/Desktop/New folder/.ipynb_checkpoints\n",
      "Sub Folders are:  []\n",
      "Files s are:  ['decor_and_os-checkpoint.ipynb', 'Dict_int_question-checkpoint.ipynb', 'exception-checkpoint.ipynb', 'generators-checkpoint.ipynb', 'int5-checkpoint.ipynb', 'intq5-checkpoint.ipynb', 'intq6-checkpoint.ipynb', 'intque-checkpoint.ipynb', 'Listexamples-checkpoint.ipynb', 'Nineleaps_interview-checkpoint.ipynb', 'pandas-checkpoint.ipynb', 'prac1-checkpoint.ipynb', 'time_decor_primeno-checkpoint.ipynb', 'Untitled-checkpoint.ipynb', 'Untitled1-checkpoint.ipynb', 'Untitled2-checkpoint.ipynb', 'Untitled3-checkpoint.ipynb', 'Untitled4-checkpoint.ipynb']\n"
     ]
    }
   ],
   "source": [
    "for x,y,z in os.walk(\"C:/Users/Admin/Desktop/New folder/\"):\n",
    "    print(\"Folders are: \",x)\n",
    "    print(\"Sub Folders are: \",y)\n",
    "    print(\"Files s are: \",z)"
   ]
  },
  {
   "cell_type": "code",
   "execution_count": 95,
   "metadata": {},
   "outputs": [],
   "source": [
    "import threading"
   ]
  },
  {
   "cell_type": "code",
   "execution_count": 96,
   "metadata": {},
   "outputs": [
    {
     "name": "stdout",
     "output_type": "stream",
     "text": [
      "Current thread::: MainThread\n"
     ]
    }
   ],
   "source": [
    "print(\"Current thread:::\",threading.current_thread().getName())"
   ]
  },
  {
   "cell_type": "code",
   "execution_count": 97,
   "metadata": {},
   "outputs": [],
   "source": [
    "logger = logging.getLogger(__name__)"
   ]
  },
  {
   "cell_type": "code",
   "execution_count": 98,
   "metadata": {},
   "outputs": [
    {
     "data": {
      "text/plain": [
       "<Logger __main__ (WARNING)>"
      ]
     },
     "execution_count": 98,
     "metadata": {},
     "output_type": "execute_result"
    }
   ],
   "source": [
    "logger"
   ]
  },
  {
   "cell_type": "code",
   "execution_count": 104,
   "metadata": {},
   "outputs": [],
   "source": [
    "path = \"C:/Users/Admin/Desktop/New folder/file\""
   ]
  },
  {
   "cell_type": "code",
   "execution_count": 105,
   "metadata": {},
   "outputs": [
    {
     "data": {
      "text/plain": [
       "'file'"
      ]
     },
     "execution_count": 105,
     "metadata": {},
     "output_type": "execute_result"
    }
   ],
   "source": [
    "os.path.basename(path)"
   ]
  },
  {
   "cell_type": "code",
   "execution_count": 109,
   "metadata": {},
   "outputs": [
    {
     "data": {
      "text/plain": [
       "['.ipynb_checkpoints',\n",
       " 'decor_and_os.ipynb',\n",
       " 'Dict_int_question.ipynb',\n",
       " 'exception.ipynb',\n",
       " 'file1.txt',\n",
       " 'Filename',\n",
       " 'generators.ipynb',\n",
       " 'int5.ipynb',\n",
       " 'intq5.ipynb',\n",
       " 'intq6.ipynb',\n",
       " 'intque.ipynb',\n",
       " 'Listexamples.ipynb',\n",
       " 'Nineleaps_interview.ipynb',\n",
       " 'pandas.ipynb',\n",
       " 'prac1.ipynb',\n",
       " 'time_decor_primeno.ipynb',\n",
       " 'Untitled.ipynb',\n",
       " 'Untitled1.ipynb',\n",
       " 'Untitled2.ipynb',\n",
       " 'Untitled3.ipynb',\n",
       " 'Untitled4.ipynb']"
      ]
     },
     "execution_count": 109,
     "metadata": {},
     "output_type": "execute_result"
    }
   ],
   "source": [
    "os.listdir(\"C:/Users/Admin/Desktop/New folder\")"
   ]
  },
  {
   "cell_type": "code",
   "execution_count": 111,
   "metadata": {},
   "outputs": [
    {
     "data": {
      "text/plain": [
       "'file.txt'"
      ]
     },
     "execution_count": 111,
     "metadata": {},
     "output_type": "execute_result"
    }
   ],
   "source": [
    "os.path.basename(\"C:/Users/Admin/Desktop/New folder/file.txt\")"
   ]
  },
  {
   "cell_type": "code",
   "execution_count": 114,
   "metadata": {},
   "outputs": [
    {
     "data": {
      "text/plain": [
       "'__main__'"
      ]
     },
     "execution_count": 114,
     "metadata": {},
     "output_type": "execute_result"
    }
   ],
   "source": [
    "os.path.basename(__name__)"
   ]
  },
  {
   "cell_type": "code",
   "execution_count": 137,
   "metadata": {},
   "outputs": [],
   "source": [
    "path=\"C:/Users/Admin/Desktop/New folder/file1.txt\""
   ]
  },
  {
   "cell_type": "code",
   "execution_count": 138,
   "metadata": {},
   "outputs": [],
   "source": [
    "isFile = os.path.isfile(path)"
   ]
  },
  {
   "cell_type": "code",
   "execution_count": 139,
   "metadata": {},
   "outputs": [
    {
     "data": {
      "text/plain": [
       "True"
      ]
     },
     "execution_count": 139,
     "metadata": {},
     "output_type": "execute_result"
    }
   ],
   "source": [
    "isFile"
   ]
  },
  {
   "cell_type": "code",
   "execution_count": 140,
   "metadata": {},
   "outputs": [],
   "source": [
    "path=\"C:/Users/Admin/Desktop/New folder/\"\n",
    "isFile = os.path.isfile(path)\n"
   ]
  },
  {
   "cell_type": "code",
   "execution_count": 141,
   "metadata": {},
   "outputs": [
    {
     "data": {
      "text/plain": [
       "False"
      ]
     },
     "execution_count": 141,
     "metadata": {},
     "output_type": "execute_result"
    }
   ],
   "source": [
    "isFile"
   ]
  },
  {
   "cell_type": "code",
   "execution_count": 144,
   "metadata": {},
   "outputs": [],
   "source": [
    "os.mkdir(\"F:\\August\")"
   ]
  },
  {
   "cell_type": "code",
   "execution_count": 147,
   "metadata": {},
   "outputs": [],
   "source": [
    "os.makedirs(\"F:\\\\August\\\\september\\\\october\\\\november\")"
   ]
  },
  {
   "cell_type": "code",
   "execution_count": 148,
   "metadata": {},
   "outputs": [],
   "source": [
    "os.rmdir(\"F:\\\\August\\\\september\\\\october\\\\november\")"
   ]
  },
  {
   "cell_type": "code",
   "execution_count": 150,
   "metadata": {},
   "outputs": [
    {
     "name": "stdout",
     "output_type": "stream",
     "text": [
      "first element is: 2\n",
      "Error occured....\n"
     ]
    }
   ],
   "source": [
    "list1 = [1,2,3]\n",
    "try:\n",
    "    print(\"first element is:\",list1[1])\n",
    "    print(\"third element is: \",list1[3])\n",
    "except:\n",
    "    print(\"Error occured....\")"
   ]
  },
  {
   "cell_type": "code",
   "execution_count": 161,
   "metadata": {},
   "outputs": [
    {
     "name": "stdout",
     "output_type": "stream",
     "text": [
      "Enter first number..4\n",
      "Enter second number..0\n",
      "Division by zero error occured...\n",
      "finally always executed...\n"
     ]
    }
   ],
   "source": [
    "def div():\n",
    "    num1 = int(input(\"Enter first number..\"))\n",
    "    num2 = int(input(\"Enter second number..\"))\n",
    "    try:\n",
    "        division = num1/num2\n",
    "        print(\"Division is :\",division)\n",
    "    except ZeroDivisionError:\n",
    "        print(\"Division by zero error occured...\")\n",
    "    finally:\n",
    "        print(\"finally always executed...\")\n",
    "div()"
   ]
  },
  {
   "cell_type": "code",
   "execution_count": 169,
   "metadata": {},
   "outputs": [
    {
     "ename": "IndentationError",
     "evalue": "expected an indented block (<ipython-input-169-19a4b10e3e68>, line 11)",
     "output_type": "error",
     "traceback": [
      "\u001b[1;36m  File \u001b[1;32m\"<ipython-input-169-19a4b10e3e68>\"\u001b[1;36m, line \u001b[1;32m11\u001b[0m\n\u001b[1;33m    except ValueTooSmallError:\u001b[0m\n\u001b[1;37m    ^\u001b[0m\n\u001b[1;31mIndentationError\u001b[0m\u001b[1;31m:\u001b[0m expected an indented block\n"
     ]
    }
   ],
   "source": [
    "class ValueTooSmallError():\n",
    "    pass\n",
    "class ValueTooBigError():\n",
    "    pass\n",
    "\n",
    "def Number():\n",
    "    no=10\n",
    "    num = int(input(\"Enter the number...\"))\n",
    "    try:\n",
    "        if num<no:\n",
    "    except ValueTooSmallError:\n",
    "        print(\"small value\")\n",
    "        if num>no:\n",
    "    except ValueTooBigError: \n",
    "        print(\"bigger value\")\n",
    "        \n",
    "    "
   ]
  },
  {
   "cell_type": "code",
   "execution_count": null,
   "metadata": {},
   "outputs": [],
   "source": []
  }
 ],
 "metadata": {
  "kernelspec": {
   "display_name": "Python 3",
   "language": "python",
   "name": "python3"
  },
  "language_info": {
   "codemirror_mode": {
    "name": "ipython",
    "version": 3
   },
   "file_extension": ".py",
   "mimetype": "text/x-python",
   "name": "python",
   "nbconvert_exporter": "python",
   "pygments_lexer": "ipython3",
   "version": "3.8.5"
  }
 },
 "nbformat": 4,
 "nbformat_minor": 4
}
