{
 "cells": [
  {
   "cell_type": "code",
   "execution_count": 1,
   "metadata": {},
   "outputs": [
    {
     "ename": "TypeError",
     "evalue": "unhashable type: 'list'",
     "output_type": "error",
     "traceback": [
      "\u001b[1;31m---------------------------------------------------------------------------\u001b[0m",
      "\u001b[1;31mTypeError\u001b[0m                                 Traceback (most recent call last)",
      "\u001b[1;32m<ipython-input-1-9c47928144ca>\u001b[0m in \u001b[0;36m<module>\u001b[1;34m\u001b[0m\n\u001b[1;32m----> 1\u001b[1;33m \u001b[0mdict1\u001b[0m \u001b[1;33m=\u001b[0m \u001b[1;33m{\u001b[0m\u001b[1;33m(\u001b[0m\u001b[1;33m(\u001b[0m\u001b[1;34m'Name'\u001b[0m\u001b[1;33m)\u001b[0m\u001b[1;33m,\u001b[0m \u001b[1;33m[\u001b[0m\u001b[1;34m'Address'\u001b[0m\u001b[1;33m]\u001b[0m\u001b[1;33m)\u001b[0m\u001b[1;33m:\u001b[0m \u001b[1;34m'Zara'\u001b[0m\u001b[1;33m,\u001b[0m \u001b[1;34m'Age'\u001b[0m\u001b[1;33m:\u001b[0m \u001b[1;36m7\u001b[0m\u001b[1;33m}\u001b[0m\u001b[1;33m\u001b[0m\u001b[1;33m\u001b[0m\u001b[0m\n\u001b[0m",
      "\u001b[1;31mTypeError\u001b[0m: unhashable type: 'list'"
     ]
    }
   ],
   "source": [
    "dict1 = {(('Name'), ['Address']): 'Zara', 'Age': 7}"
   ]
  },
  {
   "cell_type": "code",
   "execution_count": 3,
   "metadata": {},
   "outputs": [
    {
     "name": "stdout",
     "output_type": "stream",
     "text": [
      "Name Zara\n",
      "Age 7\n"
     ]
    }
   ],
   "source": [
    "\n",
    "dict1 = {('Name'): 'Zara', 'Age': 7}\n",
    "for key, value in dict1.items():\n",
    "    print(key, value)"
   ]
  },
  {
   "cell_type": "code",
   "execution_count": 13,
   "metadata": {},
   "outputs": [],
   "source": [
    "string1 ='''The English Wikipedia is the English-language edition of the free online encyclopedia, Wikipedia. \n",
    "            It was founded on 15 January 2001 as Wikipedia's first edition and, \n",
    "            as of April 2021, has the most articles of any edition, at 6,288,855.'''"
   ]
  },
  {
   "cell_type": "code",
   "execution_count": 14,
   "metadata": {},
   "outputs": [],
   "source": [
    "punc = '''',-'''"
   ]
  },
  {
   "cell_type": "code",
   "execution_count": 15,
   "metadata": {},
   "outputs": [
    {
     "name": "stdout",
     "output_type": "stream",
     "text": [
      "The English Wikipedia is the Englishlanguage edition of the free online encyclopedia Wikipedia. \n",
      "            It was founded on 15 January 2001 as Wikipedias first edition and \n",
      "            as of April 2021 has the most articles of any edition at 6288855.\n"
     ]
    }
   ],
   "source": [
    "for i in string1:\n",
    "    if i in punc:\n",
    "        string1 = string1.replace(i,\"\")\n",
    "print(string1)        \n",
    "        "
   ]
  },
  {
   "cell_type": "code",
   "execution_count": 18,
   "metadata": {},
   "outputs": [],
   "source": [
    "d = dict()\n",
    "for line in string1:\n",
    "    line = line.strip()\n",
    "    line = line.lower()\n",
    "    words = line.split()\n",
    "    for word in words:\n",
    "        if word in d:\n",
    "            d[word] = d[word]+1\n",
    "        else:\n",
    "            d[word] = 1\n",
    "            \n",
    "            "
   ]
  },
  {
   "cell_type": "code",
   "execution_count": 19,
   "metadata": {},
   "outputs": [
    {
     "name": "stdout",
     "output_type": "stream",
     "text": [
      "key : 12\n",
      "key : 7\n",
      "key : 20\n",
      "key : 14\n",
      "key : 4\n",
      "key : 7\n",
      "key : 24\n",
      "key : 11\n",
      "key : 4\n",
      "key : 3\n",
      "key : 5\n",
      "key : 10\n",
      "key : 17\n",
      "key : 3\n",
      "key : 11\n",
      "key : 6\n",
      "key : 5\n",
      "key : 3\n",
      "key : 3\n",
      "key : 2\n",
      "key : 3\n",
      "key : 3\n",
      "key : 1\n",
      "key : 4\n",
      "key : 3\n",
      "key : 1\n",
      "key : 1\n",
      "key : 3\n"
     ]
    }
   ],
   "source": [
    "for key in list(d.keys()):\n",
    "    print('key',\":\",d[key])"
   ]
  },
  {
   "cell_type": "code",
   "execution_count": null,
   "metadata": {},
   "outputs": [],
   "source": []
  }
 ],
 "metadata": {
  "kernelspec": {
   "display_name": "Python 3",
   "language": "python",
   "name": "python3"
  },
  "language_info": {
   "codemirror_mode": {
    "name": "ipython",
    "version": 3
   },
   "file_extension": ".py",
   "mimetype": "text/x-python",
   "name": "python",
   "nbconvert_exporter": "python",
   "pygments_lexer": "ipython3",
   "version": "3.8.5"
  }
 },
 "nbformat": 4,
 "nbformat_minor": 4
}
