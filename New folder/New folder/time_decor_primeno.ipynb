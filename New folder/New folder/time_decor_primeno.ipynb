{
 "cells": [
  {
   "cell_type": "code",
   "execution_count": 1,
   "metadata": {},
   "outputs": [],
   "source": [
    "list1 = [4,3,5]"
   ]
  },
  {
   "cell_type": "code",
   "execution_count": 2,
   "metadata": {},
   "outputs": [
    {
     "data": {
      "text/plain": [
       "[1, 2]"
      ]
     },
     "execution_count": 2,
     "metadata": {},
     "output_type": "execute_result"
    }
   ],
   "source": [
    "[i for i in range(1,len(list1)) if i not in list1]\n",
    "\n",
    "    \n",
    "\n",
    "        "
   ]
  },
  {
   "cell_type": "code",
   "execution_count": null,
   "metadata": {},
   "outputs": [],
   "source": [
    "  "
   ]
  },
  {
   "cell_type": "code",
   "execution_count": 299,
   "metadata": {},
   "outputs": [
    {
     "name": "stdout",
     "output_type": "stream",
     "text": [
      "1\n",
      "2\n",
      "3\n",
      "4\n"
     ]
    }
   ],
   "source": [
    "new = [1,2,3,4,6,1,2,3,4]\n",
    "for i in range(0,len(new)):\n",
    "    for j in range(i+1,len(new)):\n",
    "        if new[i]==new[j]:\n",
    "            print(new[j])  \n",
    "\n",
    "        \n",
    "        \n",
    "       \n",
    "\n"
   ]
  },
  {
   "cell_type": "code",
   "execution_count": 295,
   "metadata": {},
   "outputs": [
    {
     "data": {
      "text/plain": [
       "[[1, 2, 3, 4, 6, 1, 2, 3, 4], [1, 2, 3, 4, 6, 1, 2, 3, 4]]"
      ]
     },
     "execution_count": 295,
     "metadata": {},
     "output_type": "execute_result"
    }
   ],
   "source": []
  },
  {
   "cell_type": "code",
   "execution_count": 303,
   "metadata": {},
   "outputs": [],
   "source": [
    "import time"
   ]
  },
  {
   "cell_type": "code",
   "execution_count": 3,
   "metadata": {},
   "outputs": [],
   "source": [
    "import time\n",
    "def Outerfunc(func):\n",
    "    def Innerfunc():\n",
    "        print(\"start executin\",time.ctime())\n",
    "        time.sleep(10)\n",
    "        func()\n",
    "        print(\"End execution\",time.ctime())\n",
    "    return Innerfunc\n",
    "    "
   ]
  },
  {
   "cell_type": "code",
   "execution_count": 4,
   "metadata": {},
   "outputs": [],
   "source": [
    "@Outerfunc\n",
    "def NewFunc():\n",
    "    print('In new function')\n",
    "    "
   ]
  },
  {
   "cell_type": "code",
   "execution_count": 5,
   "metadata": {},
   "outputs": [
    {
     "name": "stdout",
     "output_type": "stream",
     "text": [
      "start executin Fri Nov 19 10:09:17 2021\n",
      "In new function\n",
      "End execution Fri Nov 19 10:09:27 2021\n"
     ]
    }
   ],
   "source": [
    "NewFunc()"
   ]
  },
  {
   "cell_type": "code",
   "execution_count": null,
   "metadata": {},
   "outputs": [],
   "source": []
  },
  {
   "cell_type": "code",
   "execution_count": 186,
   "metadata": {},
   "outputs": [
    {
     "name": "stdout",
     "output_type": "stream",
     "text": [
      "1\n",
      "2\n"
     ]
    }
   ],
   "source": [
    "arr = [1, 2, 1,2,5]; \n",
    "for i in range(0, len(arr)):    \n",
    "    for j in range(i+1, len(arr)):    \n",
    "        if(arr[i] == arr[j]):\n",
    "            print(arr[i])\n",
    "   "
   ]
  },
  {
   "cell_type": "code",
   "execution_count": null,
   "metadata": {},
   "outputs": [],
   "source": []
  },
  {
   "cell_type": "code",
   "execution_count": 185,
   "metadata": {},
   "outputs": [
    {
     "name": "stdout",
     "output_type": "stream",
     "text": [
      "[4, 5, 3, 1, 3, 7, 8, 9, 1, 2, 3, 0, 0, 0]\n"
     ]
    }
   ],
   "source": [
    "list2 = [4,5,3,0,1,3,0,7,8,9,0,1,2,3]\n",
    "j=0\n",
    "for i in range(len(list2)):\n",
    "        if list2[i]>0:\n",
    "            list2[i],list2[j] = list2[j],list2[i]\n",
    "            j+=1\n",
    "print(list2)    "
   ]
  },
  {
   "cell_type": "code",
   "execution_count": 175,
   "metadata": {},
   "outputs": [
    {
     "data": {
      "text/plain": [
       "[4, 5, 3, 1, 3, 7, 8, 9, 1, 2, 3, 0, 0, 0]"
      ]
     },
     "execution_count": 175,
     "metadata": {},
     "output_type": "execute_result"
    }
   ],
   "source": [
    "[nonZero for nonZero in list2 if nonZero!=0] + [Zero for Zero in list2 if Zero==0]"
   ]
  },
  {
   "cell_type": "code",
   "execution_count": 176,
   "metadata": {},
   "outputs": [
    {
     "data": {
      "text/plain": [
       "[4, 5, 3, 1, 3, 7, 8, 9, 1, 2, 3, 0, 0, 0]"
      ]
     },
     "execution_count": 176,
     "metadata": {},
     "output_type": "execute_result"
    }
   ],
   "source": [
    "[i for i in list2 if i!=0]+[j for j in list2 if j==0]"
   ]
  },
  {
   "cell_type": "code",
   "execution_count": 177,
   "metadata": {},
   "outputs": [
    {
     "data": {
      "text/plain": [
       "[0, 0, 0, 1, 2, 4, 3, 5]"
      ]
     },
     "execution_count": 177,
     "metadata": {},
     "output_type": "execute_result"
    }
   ],
   "source": [
    "l1 = [1, 2, 0, 4, 3, 0, 5, 0]\n",
    "[i for i in l1 if i==0]+[j for j in l1 if j!=0]"
   ]
  },
  {
   "cell_type": "code",
   "execution_count": 187,
   "metadata": {},
   "outputs": [
    {
     "name": "stdout",
     "output_type": "stream",
     "text": [
      "[1, 2, 4, 3, 5, 0, 0, 0]\n"
     ]
    }
   ],
   "source": [
    "l1 = [1, 2, 0, 4, 3, 0, 5, 0]\n",
    "count=0\n",
    "  for i in range(len(l1)):\n",
    "    if l1[i]>0:\n",
    "        l1[i],l1[count] = l1[count],l1[i]\n",
    "        count+=1\n",
    "print(l1)        "
   ]
  },
  {
   "cell_type": "code",
   "execution_count": 200,
   "metadata": {},
   "outputs": [],
   "source": [
    "def MakePrime():\n",
    "    num = int(input(\"Enter the number\"))\n",
    "    for i in range(num):\n",
    "        if num==2:\n",
    "            return i\n",
    "        if i%2!=0:\n",
    "            return num\n",
    "        \n",
    "    "
   ]
  },
  {
   "cell_type": "code",
   "execution_count": 201,
   "metadata": {},
   "outputs": [
    {
     "name": "stdout",
     "output_type": "stream",
     "text": [
      "Enter the number23\n"
     ]
    },
    {
     "data": {
      "text/plain": [
       "23"
      ]
     },
     "execution_count": 201,
     "metadata": {},
     "output_type": "execute_result"
    }
   ],
   "source": [
    "MakePrime()"
   ]
  },
  {
   "cell_type": "code",
   "execution_count": 203,
   "metadata": {},
   "outputs": [
    {
     "name": "stdout",
     "output_type": "stream",
     "text": [
      "2\n",
      "3\n",
      "5\n",
      "7\n",
      "11\n",
      "13\n"
     ]
    }
   ],
   "source": [
    "for num in range(2,15):\n",
    "    if all(num%i!=0 for i in range(2,num)):\n",
    "       print (num)"
   ]
  },
  {
   "cell_type": "code",
   "execution_count": 226,
   "metadata": {},
   "outputs": [
    {
     "name": "stdout",
     "output_type": "stream",
     "text": [
      "entre max limit:  12\n",
      "nos are: 3\n",
      "nos are: 5\n",
      "nos are: 7\n",
      "nos are: 9\n",
      "nos are: 11\n",
      "count of no is: 5\n"
     ]
    }
   ],
   "source": [
    "limit = int(input(\"entre max limit:  \"))\n",
    "count=0\n",
    "for num in range(2,limit):\n",
    "    if num%2!=0:       \n",
    "        print(\"nos are:\",num)\n",
    "        count+=1\n",
    "print(\"count of no is:\",count)\n",
    "    "
   ]
  },
  {
   "cell_type": "code",
   "execution_count": 261,
   "metadata": {},
   "outputs": [
    {
     "name": "stdout",
     "output_type": "stream",
     "text": [
      "entre max limit:  9\n"
     ]
    },
    {
     "data": {
      "text/plain": [
       "[3, 5, 7]"
      ]
     },
     "execution_count": 261,
     "metadata": {},
     "output_type": "execute_result"
    }
   ],
   "source": [
    "limit = int(input(\"entre max limit:  \"))\n",
    "[i for i in range(2,limit) if i%2!=0]"
   ]
  },
  {
   "cell_type": "code",
   "execution_count": 302,
   "metadata": {},
   "outputs": [
    {
     "name": "stdout",
     "output_type": "stream",
     "text": [
      "start execution\n",
      "Fri Nov 19 00:25:59 2021\n",
      "execution ends Fri Nov 19 00:26:09 2021\n"
     ]
    }
   ],
   "source": [
    "import time\n",
    "print(\"start execution\")\n",
    "start = time.ctime()\n",
    "print(start)\n",
    "time.sleep(10)\n",
    "end  =time.ctime()\n",
    "\n",
    "print(\"execution ends\",end)"
   ]
  },
  {
   "cell_type": "code",
   "execution_count": 349,
   "metadata": {},
   "outputs": [
    {
     "name": "stdout",
     "output_type": "stream",
     "text": [
      "In function 1...\n",
      "In function 1...\n",
      "In function 1...\n",
      "In function 1...\n",
      "In function 1...\n",
      "In function 1...\n",
      "In function 1...\n",
      "In function 1...\n",
      "In function 1...\n",
      "In function 1...\n",
      "In function 1...\n",
      "In function 1...\n",
      "Done\n"
     ]
    }
   ],
   "source": [
    "import threading\n",
    "import os\n",
    "def function1():\n",
    "    for _ in range(5):\n",
    "        print(\"In function 1...\".format(threading.current_thread().name))\n",
    "        print(\"In function 1...\".format(os.getpid()))\n",
    "def function2():\n",
    "    print(\"In function 1...\".format(threading.current_thread().name))\n",
    "    print(\"In function 1...\".format(os.getpid()))\n",
    "\n",
    "t1 = threading.Thread(target=function1,name='t1')    \n",
    "t2 = threading.Thread(target=function2,name='t2') \n",
    "t1.start()\n",
    "t2.start()\n",
    "\n",
    "t1.join()\n",
    "t2.join()\n",
    "\n",
    "print(\"Done\")"
   ]
  },
  {
   "cell_type": "code",
   "execution_count": null,
   "metadata": {},
   "outputs": [],
   "source": []
  }
 ],
 "metadata": {
  "kernelspec": {
   "display_name": "Python 3",
   "language": "python",
   "name": "python3"
  },
  "language_info": {
   "codemirror_mode": {
    "name": "ipython",
    "version": 3
   },
   "file_extension": ".py",
   "mimetype": "text/x-python",
   "name": "python",
   "nbconvert_exporter": "python",
   "pygments_lexer": "ipython3",
   "version": "3.8.5"
  }
 },
 "nbformat": 4,
 "nbformat_minor": 4
}
