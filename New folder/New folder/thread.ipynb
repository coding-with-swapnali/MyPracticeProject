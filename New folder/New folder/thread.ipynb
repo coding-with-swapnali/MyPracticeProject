{
 "cells": [
  {
   "cell_type": "code",
   "execution_count": 6,
   "metadata": {},
   "outputs": [],
   "source": [
    "def even_no():\n",
    "    n=2\n",
    "    while True:\n",
    "        yield n         \n",
    "        n+=2\n",
    "        \n",
    "        "
   ]
  },
  {
   "cell_type": "code",
   "execution_count": 7,
   "metadata": {},
   "outputs": [],
   "source": [
    "no = even_no()"
   ]
  },
  {
   "cell_type": "code",
   "execution_count": 8,
   "metadata": {},
   "outputs": [
    {
     "data": {
      "text/plain": [
       "2"
      ]
     },
     "execution_count": 8,
     "metadata": {},
     "output_type": "execute_result"
    }
   ],
   "source": [
    "next(no)"
   ]
  },
  {
   "cell_type": "code",
   "execution_count": 1,
   "metadata": {},
   "outputs": [],
   "source": [
    "x = [1,2,3,4]"
   ]
  },
  {
   "cell_type": "code",
   "execution_count": 5,
   "metadata": {},
   "outputs": [
    {
     "data": {
      "text/plain": [
       "'1234'"
      ]
     },
     "execution_count": 5,
     "metadata": {},
     "output_type": "execute_result"
    }
   ],
   "source": [
    "\"\".join(list(map(str,x)))"
   ]
  },
  {
   "cell_type": "code",
   "execution_count": 76,
   "metadata": {},
   "outputs": [],
   "source": [
    "import time\n",
    "from threading import Thread\n",
    "class Hello(Thread):\n",
    "    def run(self):\n",
    "        for i in range(3):\n",
    "            time.sleep(1)\n",
    "            print(\"Hello\")\n",
    "class Hi(Thread):\n",
    "    def run(self):\n",
    "        for i in range(3):\n",
    "            time.sleep(1)\n",
    "            print(\"Hiiiiii\")\n",
    "\n"
   ]
  },
  {
   "cell_type": "code",
   "execution_count": 77,
   "metadata": {},
   "outputs": [],
   "source": [
    "t1 = Hello()\n",
    "t2 = Hi()"
   ]
  },
  {
   "cell_type": "code",
   "execution_count": 78,
   "metadata": {},
   "outputs": [
    {
     "name": "stdout",
     "output_type": "stream",
     "text": [
      "Hello\n",
      "Hiiiiii\n",
      "Hello\n",
      "Hiiiiii\n",
      "Hello\n",
      "Hiiiiii\n",
      "bye\n"
     ]
    }
   ],
   "source": [
    "t1.start()\n",
    "t2.start()\n",
    "t1.join()\n",
    "t2.join()\n",
    "print(\"bye\")"
   ]
  },
  {
   "cell_type": "code",
   "execution_count": 118,
   "metadata": {},
   "outputs": [],
   "source": [
    "import time\n",
    "import threading \n",
    "def cube1(num):\n",
    "    for i in range(3):\n",
    "#         time.sleep(2)\n",
    "        print(\"Cube is :\",num*num*num)"
   ]
  },
  {
   "cell_type": "code",
   "execution_count": 119,
   "metadata": {},
   "outputs": [],
   "source": [
    "def sqr1(num):\n",
    "    for i in range(3): \n",
    "#         time.sleep(2)\n",
    "        print(\"square is :\",num*num)"
   ]
  },
  {
   "cell_type": "code",
   "execution_count": 120,
   "metadata": {},
   "outputs": [],
   "source": [
    "t1 = threading.Thread(target=cube1, args=(10,))\n",
    "t2 = threading.Thread(target=sqr1,args=(20,))"
   ]
  },
  {
   "cell_type": "code",
   "execution_count": 121,
   "metadata": {},
   "outputs": [
    {
     "name": "stdout",
     "output_type": "stream",
     "text": [
      "Cube is : 1000\n",
      "Cube is : 1000\n",
      "Cube is : 1000\n",
      "square is : 400\n",
      "square is : 400\n",
      "square is : 400\n"
     ]
    }
   ],
   "source": [
    "t1.start()\n",
    "t2.start()\n",
    "t2.join()\n",
    "t1.join()\n"
   ]
  },
  {
   "cell_type": "code",
   "execution_count": 122,
   "metadata": {},
   "outputs": [
    {
     "name": "stdout",
     "output_type": "stream",
     "text": [
      "2nd element is: 2\n",
      "4 th element not exixts\n"
     ]
    }
   ],
   "source": [
    "list1 = [1,2,3]\n",
    "try:\n",
    "    print(\"2nd element is:\",list1[1])\n",
    "    print(\"4 th element is :\",list1[3])\n",
    "except:\n",
    "    print(\"4 th element not exixts\")"
   ]
  },
  {
   "cell_type": "code",
   "execution_count": 136,
   "metadata": {},
   "outputs": [
    {
     "name": "stdout",
     "output_type": "stream",
     "text": [
      "Enter the first number45\n",
      "Enter the second number6\n",
      "divide by zero error\n",
      "Ends\n"
     ]
    }
   ],
   "source": [
    "    try:\n",
    "        num1 = input(\"Enter the first number\")\n",
    "        num2 = input(\"Enter the second number\")\n",
    "        div=num1/num2\n",
    "        print(div)\n",
    "    except:\n",
    "        print(\"divide by zero error\")\n",
    "print(\"Ends\")    "
   ]
  },
  {
   "cell_type": "code",
   "execution_count": 142,
   "metadata": {},
   "outputs": [],
   "source": [
    "list1 = [1,2,3]"
   ]
  },
  {
   "cell_type": "code",
   "execution_count": 143,
   "metadata": {},
   "outputs": [
    {
     "name": "stdout",
     "output_type": "stream",
     "text": [
      "Enter the index3\n",
      "Index should not greater than length of list\n"
     ]
    }
   ],
   "source": [
    "try:\n",
    "    i = int(input(\"Enter the index\"))\n",
    "    print(\"Element is :\",list1[i])\n",
    "except IndexError:\n",
    "    print(\"Index should not greater than length of list\")\n",
    "    \n",
    "    "
   ]
  },
  {
   "cell_type": "code",
   "execution_count": 144,
   "metadata": {},
   "outputs": [],
   "source": [
    "l1=[2,3,0,0,4,0,0,6,7,8,0,0,5,6,3,4]"
   ]
  },
  {
   "cell_type": "code",
   "execution_count": 153,
   "metadata": {},
   "outputs": [
    {
     "data": {
      "text/plain": [
       "[0, 0, 0, 0, 0, 0, 2, 3, 4, 6, 7, 8, 5, 6, 3, 4]"
      ]
     },
     "execution_count": 153,
     "metadata": {},
     "output_type": "execute_result"
    }
   ],
   "source": [
    "[i for i in l1 if i==0]+[j for j in l1 if j!=0]"
   ]
  },
  {
   "cell_type": "code",
   "execution_count": 176,
   "metadata": {},
   "outputs": [],
   "source": [
    "l1=[2,3,4,5]\n",
    "def swap(l1,i,j):\n",
    "    temp=l1[i]\n",
    "    l1[i]=l1[j]\n",
    "    l1[j]=temp\n",
    "       "
   ]
  },
  {
   "cell_type": "code",
   "execution_count": 177,
   "metadata": {},
   "outputs": [],
   "source": [
    "def partition(l1):\n",
    "    j=0\n",
    "    for i in range(len(l1)):\n",
    "        if l1[i]:\n",
    "            swap(l1,i,j)\n",
    "            j=j+1\n",
    "partition(l1)            \n",
    "            "
   ]
  },
  {
   "cell_type": "code",
   "execution_count": 175,
   "metadata": {},
   "outputs": [],
   "source": [
    "partition(l1)"
   ]
  },
  {
   "cell_type": "code",
   "execution_count": null,
   "metadata": {},
   "outputs": [],
   "source": []
  }
 ],
 "metadata": {
  "kernelspec": {
   "display_name": "Python 3",
   "language": "python",
   "name": "python3"
  },
  "language_info": {
   "codemirror_mode": {
    "name": "ipython",
    "version": 3
   },
   "file_extension": ".py",
   "mimetype": "text/x-python",
   "name": "python",
   "nbconvert_exporter": "python",
   "pygments_lexer": "ipython3",
   "version": "3.8.5"
  }
 },
 "nbformat": 4,
 "nbformat_minor": 4
}
