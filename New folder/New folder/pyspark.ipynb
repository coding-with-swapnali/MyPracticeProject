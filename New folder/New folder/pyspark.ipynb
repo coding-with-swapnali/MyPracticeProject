{
 "cells": [
  {
   "cell_type": "code",
   "execution_count": 2,
   "metadata": {},
   "outputs": [],
   "source": [
    "import pyspark"
   ]
  },
  {
   "cell_type": "code",
   "execution_count": 3,
   "metadata": {},
   "outputs": [],
   "source": [
    "from pyspark.sql import SparkSession\n",
    "\n",
    "spark = SparkSession.builder.appName('practice').getOrCreate()"
   ]
  },
  {
   "cell_type": "code",
   "execution_count": 4,
   "metadata": {},
   "outputs": [
    {
     "data": {
      "text/html": [
       "\n",
       "            <div>\n",
       "                <p><b>SparkSession - in-memory</b></p>\n",
       "                \n",
       "        <div>\n",
       "            <p><b>SparkContext</b></p>\n",
       "\n",
       "            <p><a href=\"http://DESKTOP-SVLQOS8:4040\">Spark UI</a></p>\n",
       "\n",
       "            <dl>\n",
       "              <dt>Version</dt>\n",
       "                <dd><code>v3.2.0</code></dd>\n",
       "              <dt>Master</dt>\n",
       "                <dd><code>local[*]</code></dd>\n",
       "              <dt>AppName</dt>\n",
       "                <dd><code>practice</code></dd>\n",
       "            </dl>\n",
       "        </div>\n",
       "        \n",
       "            </div>\n",
       "        "
      ],
      "text/plain": [
       "<pyspark.sql.session.SparkSession at 0x224532727f0>"
      ]
     },
     "execution_count": 4,
     "metadata": {},
     "output_type": "execute_result"
    }
   ],
   "source": [
    "spark"
   ]
  },
  {
   "cell_type": "code",
   "execution_count": 10,
   "metadata": {},
   "outputs": [],
   "source": [
    "df = spark.read.option('header','true').csv('C:\\\\Users\\\\Admin\\\\Downloads\\\\xyz.csv')"
   ]
  },
  {
   "cell_type": "code",
   "execution_count": 11,
   "metadata": {},
   "outputs": [
    {
     "data": {
      "text/plain": [
       "DataFrame[Year: string, Industry_aggregation_NZSIOC: string, Industry_code_NZSIOC: string, Industry_name_NZSIOC: string, Units: string, Variable_code: string, Variable_name: string, Variable_category: string, Value: string, Industry_code_ANZSIC06: string]"
      ]
     },
     "execution_count": 11,
     "metadata": {},
     "output_type": "execute_result"
    }
   ],
   "source": [
    "df"
   ]
  },
  {
   "cell_type": "code",
   "execution_count": 13,
   "metadata": {},
   "outputs": [],
   "source": [
    "df2 = spark.read.csv('C:\\\\Users\\\\Admin\\\\Downloads\\\\xyz.csv', header=True, inferSchema=True)"
   ]
  },
  {
   "cell_type": "code",
   "execution_count": 16,
   "metadata": {},
   "outputs": [
    {
     "name": "stdout",
     "output_type": "stream",
     "text": [
      "+----+---------------------------+--------------------+--------------------+------------------+-------------+--------------------+--------------------+---------+----------------------+\n",
      "|Year|Industry_aggregation_NZSIOC|Industry_code_NZSIOC|Industry_name_NZSIOC|             Units|Variable_code|       Variable_name|   Variable_category|    Value|Industry_code_ANZSIC06|\n",
      "+----+---------------------------+--------------------+--------------------+------------------+-------------+--------------------+--------------------+---------+----------------------+\n",
      "|2020|                    Level 1|               99999|      All industries|Dollars (millions)|          H01|        Total income|Financial perform...|  733,258|  ANZSIC06 division...|\n",
      "|2020|                    Level 1|               99999|      All industries|Dollars (millions)|          H04|Sales, government...|Financial perform...|  660,630|  ANZSIC06 division...|\n",
      "|2020|                    Level 1|               99999|      All industries|Dollars (millions)|          H05|Interest, dividen...|Financial perform...|   54,342|  ANZSIC06 division...|\n",
      "|2020|                    Level 1|               99999|      All industries|Dollars (millions)|          H07|Non-operating income|Financial perform...|   18,285|  ANZSIC06 division...|\n",
      "|2020|                    Level 1|               99999|      All industries|Dollars (millions)|          H08|   Total expenditure|Financial perform...|  654,872|  ANZSIC06 division...|\n",
      "|2020|                    Level 1|               99999|      All industries|Dollars (millions)|          H09|Interest and dona...|Financial perform...|   32,730|  ANZSIC06 division...|\n",
      "|2020|                    Level 1|               99999|      All industries|Dollars (millions)|          H10|      Indirect taxes|Financial perform...|    7,509|  ANZSIC06 division...|\n",
      "|2020|                    Level 1|               99999|      All industries|Dollars (millions)|          H11|        Depreciation|Financial perform...|   26,821|  ANZSIC06 division...|\n",
      "|2020|                    Level 1|               99999|      All industries|Dollars (millions)|          H12|Salaries and wage...|Financial perform...|  119,387|  ANZSIC06 division...|\n",
      "|2020|                    Level 1|               99999|      All industries|Dollars (millions)|          H13|Redundancy and se...|Financial perform...|      305|  ANZSIC06 division...|\n",
      "|2020|                    Level 1|               99999|      All industries|Dollars (millions)|          H14|Salaries and wage...|Financial perform...|    1,756|  ANZSIC06 division...|\n",
      "|2020|                    Level 1|               99999|      All industries|Dollars (millions)|          H19|Purchases and oth...|Financial perform...|  450,394|  ANZSIC06 division...|\n",
      "|2020|                    Level 1|               99999|      All industries|Dollars (millions)|          H20|Non-operating exp...|Financial perform...|   16,274|  ANZSIC06 division...|\n",
      "|2020|                    Level 1|               99999|      All industries|Dollars (millions)|          H21|      Opening stocks|Financial perform...|   68,109|  ANZSIC06 division...|\n",
      "|2020|                    Level 1|               99999|      All industries|Dollars (millions)|          H22|      Closing stocks|Financial perform...|   69,123|  ANZSIC06 division...|\n",
      "|2020|                    Level 1|               99999|      All industries|Dollars (millions)|          H23|Surplus before in...|Financial perform...|   79,400|  ANZSIC06 division...|\n",
      "|2020|                    Level 1|               99999|      All industries|Dollars (millions)|          H24|        Total assets|  Financial position|2,396,143|  ANZSIC06 division...|\n",
      "|2020|                    Level 1|               99999|      All industries|Dollars (millions)|          H25|      Current assets|  Financial position|  665,643|  ANZSIC06 division...|\n",
      "|2020|                    Level 1|               99999|      All industries|Dollars (millions)|          H26|Fixed tangible as...|  Financial position|  562,646|  ANZSIC06 division...|\n",
      "|2020|                    Level 1|               99999|      All industries|Dollars (millions)|          H29|        Other assets|  Financial position|1,167,854|  ANZSIC06 division...|\n",
      "+----+---------------------------+--------------------+--------------------+------------------+-------------+--------------------+--------------------+---------+----------------------+\n",
      "only showing top 20 rows\n",
      "\n"
     ]
    }
   ],
   "source": [
    "df2.show()"
   ]
  },
  {
   "cell_type": "code",
   "execution_count": 17,
   "metadata": {},
   "outputs": [
    {
     "data": {
      "text/plain": [
       "pyspark.sql.dataframe.DataFrame"
      ]
     },
     "execution_count": 17,
     "metadata": {},
     "output_type": "execute_result"
    }
   ],
   "source": [
    "type(df2)"
   ]
  },
  {
   "cell_type": "code",
   "execution_count": 18,
   "metadata": {},
   "outputs": [
    {
     "data": {
      "text/plain": [
       "['Year',\n",
       " 'Industry_aggregation_NZSIOC',\n",
       " 'Industry_code_NZSIOC',\n",
       " 'Industry_name_NZSIOC',\n",
       " 'Units',\n",
       " 'Variable_code',\n",
       " 'Variable_name',\n",
       " 'Variable_category',\n",
       " 'Value',\n",
       " 'Industry_code_ANZSIC06']"
      ]
     },
     "execution_count": 18,
     "metadata": {},
     "output_type": "execute_result"
    }
   ],
   "source": [
    "df2.columns"
   ]
  },
  {
   "cell_type": "code",
   "execution_count": 20,
   "metadata": {},
   "outputs": [
    {
     "data": {
      "text/plain": [
       "[Row(Year=2020, Industry_aggregation_NZSIOC='Level 1', Industry_code_NZSIOC='99999', Industry_name_NZSIOC='All industries', Units='Dollars (millions)', Variable_code='H01', Variable_name='Total income', Variable_category='Financial performance', Value='733,258', Industry_code_ANZSIC06='ANZSIC06 divisions A-S (excluding classes K6330, L6711, O7552, O760, O771, O772, S9540, S9601, S9602, and S9603)'),\n",
       " Row(Year=2020, Industry_aggregation_NZSIOC='Level 1', Industry_code_NZSIOC='99999', Industry_name_NZSIOC='All industries', Units='Dollars (millions)', Variable_code='H04', Variable_name='Sales, government funding, grants and subsidies', Variable_category='Financial performance', Value='660,630', Industry_code_ANZSIC06='ANZSIC06 divisions A-S (excluding classes K6330, L6711, O7552, O760, O771, O772, S9540, S9601, S9602, and S9603)')]"
      ]
     },
     "execution_count": 20,
     "metadata": {},
     "output_type": "execute_result"
    }
   ],
   "source": [
    "df2.head(2)"
   ]
  },
  {
   "cell_type": "code",
   "execution_count": 22,
   "metadata": {},
   "outputs": [
    {
     "name": "stdout",
     "output_type": "stream",
     "text": [
      "+----+\n",
      "|Year|\n",
      "+----+\n",
      "|2020|\n",
      "|2020|\n",
      "|2020|\n",
      "|2020|\n",
      "|2020|\n",
      "|2020|\n",
      "|2020|\n",
      "|2020|\n",
      "|2020|\n",
      "|2020|\n",
      "|2020|\n",
      "|2020|\n",
      "|2020|\n",
      "|2020|\n",
      "|2020|\n",
      "|2020|\n",
      "|2020|\n",
      "|2020|\n",
      "|2020|\n",
      "|2020|\n",
      "+----+\n",
      "only showing top 20 rows\n",
      "\n"
     ]
    }
   ],
   "source": [
    "df2.select('Year').show()"
   ]
  },
  {
   "cell_type": "code",
   "execution_count": 25,
   "metadata": {},
   "outputs": [
    {
     "name": "stdout",
     "output_type": "stream",
     "text": [
      "+----+--------------------+---------+\n",
      "|Year|Industry_name_NZSIOC|    Value|\n",
      "+----+--------------------+---------+\n",
      "|2020|      All industries|  733,258|\n",
      "|2020|      All industries|  660,630|\n",
      "|2020|      All industries|   54,342|\n",
      "|2020|      All industries|   18,285|\n",
      "|2020|      All industries|  654,872|\n",
      "|2020|      All industries|   32,730|\n",
      "|2020|      All industries|    7,509|\n",
      "|2020|      All industries|   26,821|\n",
      "|2020|      All industries|  119,387|\n",
      "|2020|      All industries|      305|\n",
      "|2020|      All industries|    1,756|\n",
      "|2020|      All industries|  450,394|\n",
      "|2020|      All industries|   16,274|\n",
      "|2020|      All industries|   68,109|\n",
      "|2020|      All industries|   69,123|\n",
      "|2020|      All industries|   79,400|\n",
      "|2020|      All industries|2,396,143|\n",
      "|2020|      All industries|  665,643|\n",
      "|2020|      All industries|  562,646|\n",
      "|2020|      All industries|1,167,854|\n",
      "+----+--------------------+---------+\n",
      "only showing top 20 rows\n",
      "\n"
     ]
    }
   ],
   "source": [
    "df2.select(['Year','Industry_name_NZSIOC','Value']).show()"
   ]
  },
  {
   "cell_type": "code",
   "execution_count": 26,
   "metadata": {},
   "outputs": [
    {
     "data": {
      "text/plain": [
       "DataFrame[summary: string, Year: string, Industry_aggregation_NZSIOC: string, Industry_code_NZSIOC: string, Industry_name_NZSIOC: string, Units: string, Variable_code: string, Variable_name: string, Variable_category: string, Value: string, Industry_code_ANZSIC06: string]"
      ]
     },
     "execution_count": 26,
     "metadata": {},
     "output_type": "execute_result"
    }
   ],
   "source": [
    "df2.describe()"
   ]
  },
  {
   "cell_type": "code",
   "execution_count": 28,
   "metadata": {},
   "outputs": [
    {
     "name": "stdout",
     "output_type": "stream",
     "text": [
      "+----+---------------------------+--------------------+--------------------+------------------+-------------+--------------------+--------------------+---------+----------------------+-------------------+\n",
      "|Year|Industry_aggregation_NZSIOC|Industry_code_NZSIOC|Industry_name_NZSIOC|             Units|Variable_code|       Variable_name|   Variable_category|    Value|Industry_code_ANZSIC06|value after 2 years|\n",
      "+----+---------------------------+--------------------+--------------------+------------------+-------------+--------------------+--------------------+---------+----------------------+-------------------+\n",
      "|2020|                    Level 1|               99999|      All industries|Dollars (millions)|          H01|        Total income|Financial perform...|  733,258|  ANZSIC06 division...|               null|\n",
      "|2020|                    Level 1|               99999|      All industries|Dollars (millions)|          H04|Sales, government...|Financial perform...|  660,630|  ANZSIC06 division...|               null|\n",
      "|2020|                    Level 1|               99999|      All industries|Dollars (millions)|          H05|Interest, dividen...|Financial perform...|   54,342|  ANZSIC06 division...|               null|\n",
      "|2020|                    Level 1|               99999|      All industries|Dollars (millions)|          H07|Non-operating income|Financial perform...|   18,285|  ANZSIC06 division...|               null|\n",
      "|2020|                    Level 1|               99999|      All industries|Dollars (millions)|          H08|   Total expenditure|Financial perform...|  654,872|  ANZSIC06 division...|               null|\n",
      "|2020|                    Level 1|               99999|      All industries|Dollars (millions)|          H09|Interest and dona...|Financial perform...|   32,730|  ANZSIC06 division...|               null|\n",
      "|2020|                    Level 1|               99999|      All industries|Dollars (millions)|          H10|      Indirect taxes|Financial perform...|    7,509|  ANZSIC06 division...|               null|\n",
      "|2020|                    Level 1|               99999|      All industries|Dollars (millions)|          H11|        Depreciation|Financial perform...|   26,821|  ANZSIC06 division...|               null|\n",
      "|2020|                    Level 1|               99999|      All industries|Dollars (millions)|          H12|Salaries and wage...|Financial perform...|  119,387|  ANZSIC06 division...|               null|\n",
      "|2020|                    Level 1|               99999|      All industries|Dollars (millions)|          H13|Redundancy and se...|Financial perform...|      305|  ANZSIC06 division...|             2305.0|\n",
      "|2020|                    Level 1|               99999|      All industries|Dollars (millions)|          H14|Salaries and wage...|Financial perform...|    1,756|  ANZSIC06 division...|               null|\n",
      "|2020|                    Level 1|               99999|      All industries|Dollars (millions)|          H19|Purchases and oth...|Financial perform...|  450,394|  ANZSIC06 division...|               null|\n",
      "|2020|                    Level 1|               99999|      All industries|Dollars (millions)|          H20|Non-operating exp...|Financial perform...|   16,274|  ANZSIC06 division...|               null|\n",
      "|2020|                    Level 1|               99999|      All industries|Dollars (millions)|          H21|      Opening stocks|Financial perform...|   68,109|  ANZSIC06 division...|               null|\n",
      "|2020|                    Level 1|               99999|      All industries|Dollars (millions)|          H22|      Closing stocks|Financial perform...|   69,123|  ANZSIC06 division...|               null|\n",
      "|2020|                    Level 1|               99999|      All industries|Dollars (millions)|          H23|Surplus before in...|Financial perform...|   79,400|  ANZSIC06 division...|               null|\n",
      "|2020|                    Level 1|               99999|      All industries|Dollars (millions)|          H24|        Total assets|  Financial position|2,396,143|  ANZSIC06 division...|               null|\n",
      "|2020|                    Level 1|               99999|      All industries|Dollars (millions)|          H25|      Current assets|  Financial position|  665,643|  ANZSIC06 division...|               null|\n",
      "|2020|                    Level 1|               99999|      All industries|Dollars (millions)|          H26|Fixed tangible as...|  Financial position|  562,646|  ANZSIC06 division...|               null|\n",
      "|2020|                    Level 1|               99999|      All industries|Dollars (millions)|          H29|        Other assets|  Financial position|1,167,854|  ANZSIC06 division...|               null|\n",
      "+----+---------------------------+--------------------+--------------------+------------------+-------------+--------------------+--------------------+---------+----------------------+-------------------+\n",
      "only showing top 20 rows\n",
      "\n"
     ]
    }
   ],
   "source": [
    "df2.withColumn('value after 2 years',df2['value']+2000).show()"
   ]
  },
  {
   "cell_type": "code",
   "execution_count": null,
   "metadata": {},
   "outputs": [],
   "source": []
  }
 ],
 "metadata": {
  "kernelspec": {
   "display_name": "Python 3",
   "language": "python",
   "name": "python3"
  },
  "language_info": {
   "codemirror_mode": {
    "name": "ipython",
    "version": 3
   },
   "file_extension": ".py",
   "mimetype": "text/x-python",
   "name": "python",
   "nbconvert_exporter": "python",
   "pygments_lexer": "ipython3",
   "version": "3.8.5"
  }
 },
 "nbformat": 4,
 "nbformat_minor": 4
}
