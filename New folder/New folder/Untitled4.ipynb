{
 "cells": [
  {
   "cell_type": "code",
   "execution_count": 41,
   "metadata": {},
   "outputs": [],
   "source": [
    "    \n",
    "def Even_no(num):\n",
    "    n=2\n",
    "    while n<num:\n",
    "        yield n\n",
    "        n+=2"
   ]
  },
  {
   "cell_type": "code",
   "execution_count": 42,
   "metadata": {},
   "outputs": [],
   "source": [
    "obj  = Even_no(10)"
   ]
  },
  {
   "cell_type": "code",
   "execution_count": 45,
   "metadata": {},
   "outputs": [
    {
     "data": {
      "text/plain": [
       "6"
      ]
     },
     "execution_count": 45,
     "metadata": {},
     "output_type": "execute_result"
    }
   ],
   "source": [
    "next(obj)"
   ]
  },
  {
   "cell_type": "code",
   "execution_count": 26,
   "metadata": {},
   "outputs": [
    {
     "ename": "SyntaxError",
     "evalue": "invalid syntax (<ipython-input-26-8e0449aa62fe>, line 1)",
     "output_type": "error",
     "traceback": [
      "\u001b[1;36m  File \u001b[1;32m\"<ipython-input-26-8e0449aa62fe>\"\u001b[1;36m, line \u001b[1;32m1\u001b[0m\n\u001b[1;33m    1. Days of the week are represented as three-letter strings(‘mon’, ‘tue’, ‘wed’, ‘thu’, ‘fri’,\u001b[0m\n\u001b[1;37m       ^\u001b[0m\n\u001b[1;31mSyntaxError\u001b[0m\u001b[1;31m:\u001b[0m invalid syntax\n"
     ]
    }
   ],
   "source": [
    "1. Days of the week are represented as three-letter strings(‘mon’, ‘tue’, ‘wed’, ‘thu’, ‘fri’,\n",
    "‘sat’, ‘sun’)\n",
    "Write a function solution that given a string S representing the day of the week and an\n",
    "integer K (between 0 and 500, inclusive), returns the day of the week that is K days later.\n",
    "For example, given S=”wed” and K =2, the function should return “fri”\n",
    "Given s = “sat” and k=23 the function should return “mon’"
   ]
  },
  {
   "cell_type": "code",
   "execution_count": null,
   "metadata": {},
   "outputs": [],
   "source": [
    "create procedure store_proc( IN Emp_id ,OUT Emp_salary,IN Amount) as\n",
    "{\n",
    "begin\n",
    "   select * from Employee where Emp_id =e\n",
    "    Emp_salary = Emp_salary+Amount\n",
    "    insert into Employee where Emp_id = e\n",
    "    }\n",
    "end"
   ]
  }
 ],
 "metadata": {
  "kernelspec": {
   "display_name": "Python 3",
   "language": "python",
   "name": "python3"
  },
  "language_info": {
   "codemirror_mode": {
    "name": "ipython",
    "version": 3
   },
   "file_extension": ".py",
   "mimetype": "text/x-python",
   "name": "python",
   "nbconvert_exporter": "python",
   "pygments_lexer": "ipython3",
   "version": "3.8.5"
  }
 },
 "nbformat": 4,
 "nbformat_minor": 4
}
