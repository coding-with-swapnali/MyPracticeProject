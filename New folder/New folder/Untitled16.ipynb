{
 "cells": [
  {
   "cell_type": "code",
   "execution_count": 2,
   "id": "593f1b87",
   "metadata": {},
   "outputs": [
    {
     "name": "stdout",
     "output_type": "stream",
     "text": [
      "{'b': 2, 'a': 4, 'c': 2}\n"
     ]
    }
   ],
   "source": [
    "MyList = [\"b\", \"a\", \"a\", \"c\", \"b\", \"a\", \"c\", 'a']\n",
    "res = {}\n",
    "for i in MyList:\n",
    "    res[i] = MyList.count(i)\n",
    "print(res)"
   ]
  },
  {
   "cell_type": "code",
   "execution_count": 8,
   "id": "acf7709a",
   "metadata": {},
   "outputs": [
    {
     "data": {
      "text/plain": [
       "{'b': 2, 'a': 4, 'c': 2}"
      ]
     },
     "execution_count": 8,
     "metadata": {},
     "output_type": "execute_result"
    }
   ],
   "source": [
    "{i:MyList.count(i) for i in MyList}"
   ]
  },
  {
   "cell_type": "code",
   "execution_count": 9,
   "id": "6aa84e95",
   "metadata": {},
   "outputs": [
    {
     "name": "stdout",
     "output_type": "stream",
     "text": [
      "['b', 'a', 'c']\n"
     ]
    }
   ],
   "source": [
    "MyList = [\"b\", \"a\", \"a\", \"c\", \"b\", \"a\", \"c\", 'a']\n",
    "dup = []\n",
    "for i in MyList:\n",
    "    if i not in dup:\n",
    "        dup.append(i)\n",
    "print(dup)"
   ]
  },
  {
   "cell_type": "code",
   "execution_count": null,
   "id": "d7e58b83",
   "metadata": {},
   "outputs": [],
   "source": [
    "#most frquent numbers.\n"
   ]
  }
 ],
 "metadata": {
  "kernelspec": {
   "display_name": "Python 3 (ipykernel)",
   "language": "python",
   "name": "python3"
  },
  "language_info": {
   "codemirror_mode": {
    "name": "ipython",
    "version": 3
   },
   "file_extension": ".py",
   "mimetype": "text/x-python",
   "name": "python",
   "nbconvert_exporter": "python",
   "pygments_lexer": "ipython3",
   "version": "3.9.12"
  }
 },
 "nbformat": 4,
 "nbformat_minor": 5
}
