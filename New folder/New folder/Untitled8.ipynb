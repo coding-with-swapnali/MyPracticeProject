{
 "cells": [
  {
   "cell_type": "code",
   "execution_count": 16,
   "metadata": {},
   "outputs": [],
   "source": [
    "list1 = [1, 2, 3, 3, 4, 5, 5, 5]\n",
    "\n",
    "# {1: 1, 2: 1, 3: 2, 4: 1, 5: 3}"
   ]
  },
  {
   "cell_type": "code",
   "execution_count": 28,
   "metadata": {},
   "outputs": [],
   "source": [
    "\n",
    "def NewList(list1):\n",
    "    dict1 = {}\n",
    "    for i in list1:\n",
    "        if i in dict1:\n",
    "            dict1[i]=dict1[i]+1\n",
    "        else:\n",
    "            dict1[i]=1\n",
    "    print(dict1)\n",
    "   \n",
    "\n",
    "        "
   ]
  },
  {
   "cell_type": "code",
   "execution_count": 29,
   "metadata": {},
   "outputs": [
    {
     "name": "stdout",
     "output_type": "stream",
     "text": [
      "{1: 1, 2: 1, 3: 2, 4: 1, 5: 3}\n"
     ]
    }
   ],
   "source": [
    " NewList(list1)"
   ]
  },
  {
   "cell_type": "code",
   "execution_count": 34,
   "metadata": {},
   "outputs": [
    {
     "data": {
      "text/plain": [
       "{(1, 1), (2, 1), (3, 2), (4, 1), (5, 3)}"
      ]
     },
     "execution_count": 34,
     "metadata": {},
     "output_type": "execute_result"
    }
   ],
   "source": [
    "{(i,list1.count(i)) for i in list1}"
   ]
  },
  {
   "cell_type": "code",
   "execution_count": null,
   "metadata": {},
   "outputs": [],
   "source": [
    "Department:\n",
    "name = CharField\n",
    "code = CharField\n",
    "\n",
    "Employee:\n",
    "name = CharField\n",
    "department = ForeignKey(Department)\n",
    "salary = FloatField\n",
    "date_of_joining = DateField"
   ]
  },
  {
   "cell_type": "code",
   "execution_count": null,
   "metadata": {},
   "outputs": [],
   "source": [
    "emp from cs \n",
    "Employee.objects.filter(department__name='cs')\n",
    "\n",
    "\n",
    "\n",
    "from django.db.models import Sum\n",
    "\n",
    "Employee.objects.aggregate(Sum('salary'))"
   ]
  },
  {
   "cell_type": "code",
   "execution_count": 35,
   "metadata": {},
   "outputs": [
    {
     "name": "stdout",
     "output_type": "stream",
     "text": [
      "[3, 4]\n",
      "[3, 5]\n",
      "[1, 2, [3, 5]]\n"
     ]
    }
   ],
   "source": [
    "try:\n",
    "    list1 = [1, 2, [3, 4]]\n",
    "    a = list1[2]\n",
    "    print(a)\n",
    "    a[1] = 5\n",
    "    print(a)\n",
    "    a[2] = 6\n",
    "    print(a)\n",
    "    print(list1)\n",
    "except Exception as e:\n",
    "    print(list1)"
   ]
  },
  {
   "cell_type": "code",
   "execution_count": null,
   "metadata": {},
   "outputs": [],
   "source": []
  }
 ],
 "metadata": {
  "kernelspec": {
   "display_name": "Python 3",
   "language": "python",
   "name": "python3"
  },
  "language_info": {
   "codemirror_mode": {
    "name": "ipython",
    "version": 3
   },
   "file_extension": ".py",
   "mimetype": "text/x-python",
   "name": "python",
   "nbconvert_exporter": "python",
   "pygments_lexer": "ipython3",
   "version": "3.8.5"
  }
 },
 "nbformat": 4,
 "nbformat_minor": 4
}
