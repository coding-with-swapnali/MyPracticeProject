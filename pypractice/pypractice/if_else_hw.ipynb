{
 "cells": [
  {
   "cell_type": "code",
   "execution_count": 8,
   "metadata": {},
   "outputs": [
    {
     "name": "stdout",
     "output_type": "stream",
     "text": [
      "Enter city\n",
      "pune\n",
      "Enter Gender M/F\n",
      "f\n",
      "Enter salary\n",
      "15000\n",
      "You will get 20k bonus\n",
      "Your total salary is 35000.0\n"
     ]
    }
   ],
   "source": [
    "City=input(\"Enter city\\n\")\n",
    "Gender=input(\"Enter Gender M/F\\n\")\n",
    "Salary=float(input(\"Enter salary\\n\"))\n",
    "Gender1=Gender.upper()\n",
    "\n",
    "if Gender1=='M':\n",
    "     if City=='pune':\n",
    "            if Salary>=10000\n",
    "                print(\"You will get 10k bonus\")\n",
    "                print(\"Your total salary is\",Salary+10000)\n",
    "\n",
    "    elif (Salary>=50000 and City=='Mumbai'):\n",
    "        print(\"You will get 15k bonus\")\n",
    "        print(\"Your total salary is\",Salary+15000)\n",
    "\n",
    "    else:\n",
    "        print(\"you will not eligible for bonus\")\n",
    "if (Gender1=='F'):\n",
    "    if (Salary>=10000 and City=='pune'):\n",
    "        print(\"You will get 20k bonus\")\n",
    "        print(\"Your total salary is\",Salary+20000)\n",
    "\n",
    "    elif (Salary>=50000 and City=='Mumbai'):\n",
    "        print(\"You will get 25k bonus\")\n",
    "        print(\"Your total salary is\",Salary+25000)\n",
    "    else:\n",
    "        print(\"you will not eligible for bonus\")"
   ]
  },
  {
   "cell_type": "code",
   "execution_count": 19,
   "metadata": {},
   "outputs": [
    {
     "ename": "IndentationError",
     "evalue": "unindent does not match any outer indentation level (<tokenize>, line 9)",
     "output_type": "error",
     "traceback": [
      "\u001b[1;36m  File \u001b[1;32m\"<tokenize>\"\u001b[1;36m, line \u001b[1;32m9\u001b[0m\n\u001b[1;33m    elif Salary>=50000 and City=='pune':\u001b[0m\n\u001b[1;37m    ^\u001b[0m\n\u001b[1;31mIndentationError\u001b[0m\u001b[1;31m:\u001b[0m unindent does not match any outer indentation level\n"
     ]
    }
   ],
   "source": [
    "City=input(\"Enter city\\n\")\n",
    "Gender=input(\"Enter Gender M/F\\n\")\n",
    "Salary=int(input(\"Enter salary\\n\"))\n",
    "\n",
    "if Gender1=='Male':\n",
    "      if Salary>=10000 and City=='pune':\n",
    "                print(\"You will get 10k bonus\")\n",
    "                print(\"Your total salary is\",Salary+10000)\n",
    "      elif Salary>=50000 and City=='pune':\n",
    "                print(\"You will get 15k bonus\")\n",
    "                print(\"Your total salary is\",Salary+15000)\n",
    "      else:\n",
    "                print(\"you are not eligible for bonus\")\n",
    "                   "
   ]
  },
  {
   "cell_type": "code",
   "execution_count": null,
   "metadata": {},
   "outputs": [],
   "source": []
  }
 ],
 "metadata": {
  "kernelspec": {
   "display_name": "Python 3",
   "language": "python",
   "name": "python3"
  },
  "language_info": {
   "codemirror_mode": {
    "name": "ipython",
    "version": 3
   },
   "file_extension": ".py",
   "mimetype": "text/x-python",
   "name": "python",
   "nbconvert_exporter": "python",
   "pygments_lexer": "ipython3",
   "version": "3.8.5"
  }
 },
 "nbformat": 4,
 "nbformat_minor": 4
}
