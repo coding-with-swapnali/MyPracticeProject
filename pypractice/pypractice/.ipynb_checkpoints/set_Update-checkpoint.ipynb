{
 "cells": [
  {
   "cell_type": "code",
   "execution_count": 1,
   "metadata": {},
   "outputs": [
    {
     "data": {
      "text/plain": [
       "{(6-7j), 1, 2, 3, 56.78, 'john', 'pune'}"
      ]
     },
     "execution_count": 1,
     "metadata": {},
     "output_type": "execute_result"
    }
   ],
   "source": [
    "# set with update method\n",
    "py_Set1={1,2,3,56.78,\"pune\",\"john\",6-7j,6-7j}\n",
    "py_Set1"
   ]
  },
  {
   "cell_type": "code",
   "execution_count": 3,
   "metadata": {},
   "outputs": [
    {
     "data": {
      "text/plain": [
       "7"
      ]
     },
     "execution_count": 3,
     "metadata": {},
     "output_type": "execute_result"
    }
   ],
   "source": [
    "len(py_Set1)"
   ]
  },
  {
   "cell_type": "code",
   "execution_count": 11,
   "metadata": {},
   "outputs": [
    {
     "data": {
      "text/plain": [
       "6"
      ]
     },
     "execution_count": 11,
     "metadata": {},
     "output_type": "execute_result"
    }
   ],
   "source": [
    "py_Set2={45,67,\"apple\",\"banana\",\"cherry\",5-6j}\n",
    "py_Set2\n",
    "\n",
    "len(py_Set2)"
   ]
  },
  {
   "cell_type": "code",
   "execution_count": 8,
   "metadata": {},
   "outputs": [
    {
     "name": "stdout",
     "output_type": "stream",
     "text": [
      "{1, 2, 67, 3, 'cherry', 45, 'apple', 'banana', (6-7j), (5-6j), 'pune', 'john', 56.78}\n"
     ]
    }
   ],
   "source": [
    "py_Set2.update(py_Set1)\n",
    "print(py_Set2)"
   ]
  },
  {
   "cell_type": "code",
   "execution_count": 15,
   "metadata": {},
   "outputs": [
    {
     "name": "stdout",
     "output_type": "stream",
     "text": [
      "{1, 2, 67, 'satara', 'cherry', 45, 'apple', 'banana', (5-6j)}\n"
     ]
    }
   ],
   "source": [
    "py_List=[1,2,\"satara\"]\n",
    "py_Set2.update(py_List)\n",
    "print(py_Set2)"
   ]
  },
  {
   "cell_type": "code",
   "execution_count": 17,
   "metadata": {},
   "outputs": [
    {
     "name": "stdout",
     "output_type": "stream",
     "text": [
      "{1, 2, 67, 'satara', 'cherry', 45, 'apple', 'banana', (5-6j), 'kiwi', 'orange'}\n"
     ]
    }
   ],
   "source": [
    "py_tuple=(\"kiwi\",\"orange\")\n",
    "py_Set2.update(py_tuple)\n",
    "print(py_Set2)"
   ]
  },
  {
   "cell_type": "code",
   "execution_count": 18,
   "metadata": {},
   "outputs": [
    {
     "name": "stdout",
     "output_type": "stream",
     "text": [
      "[1, 2, 'satara', 'kiwi', 'orange']\n"
     ]
    }
   ],
   "source": [
    "py_List.extend(py_tuple)\n",
    "print(py_List)"
   ]
  },
  {
   "cell_type": "code",
   "execution_count": 21,
   "metadata": {},
   "outputs": [
    {
     "data": {
      "text/plain": [
       "1"
      ]
     },
     "execution_count": 21,
     "metadata": {},
     "output_type": "execute_result"
    }
   ],
   "source": [
    "py_tuple.count(\"kiwi\")"
   ]
  },
  {
   "cell_type": "code",
   "execution_count": null,
   "metadata": {},
   "outputs": [],
   "source": []
  }
 ],
 "metadata": {
  "kernelspec": {
   "display_name": "Python 3",
   "language": "python",
   "name": "python3"
  },
  "language_info": {
   "codemirror_mode": {
    "name": "ipython",
    "version": 3
   },
   "file_extension": ".py",
   "mimetype": "text/x-python",
   "name": "python",
   "nbconvert_exporter": "python",
   "pygments_lexer": "ipython3",
   "version": "3.8.5"
  }
 },
 "nbformat": 4,
 "nbformat_minor": 4
}
