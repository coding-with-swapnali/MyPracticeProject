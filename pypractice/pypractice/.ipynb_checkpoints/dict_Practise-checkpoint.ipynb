{
 "cells": [
  {
   "cell_type": "code",
   "execution_count": 9,
   "metadata": {},
   "outputs": [
    {
     "data": {
      "text/plain": [
       "{'pune': 30, 'satara': 67, 'mumbai': 90, 'sangli': 78.89}"
      ]
     },
     "execution_count": 9,
     "metadata": {},
     "output_type": "execute_result"
    }
   ],
   "source": [
    "py_Dict={\"pune\":30,\"satara\":67,\"mumbai\":90,\"sangli\":78.89}\n",
    "py_Dict"
   ]
  },
  {
   "cell_type": "code",
   "execution_count": 2,
   "metadata": {},
   "outputs": [
    {
     "data": {
      "text/plain": [
       "dict"
      ]
     },
     "execution_count": 2,
     "metadata": {},
     "output_type": "execute_result"
    }
   ],
   "source": [
    "type(py_Dict)"
   ]
  },
  {
   "cell_type": "code",
   "execution_count": 5,
   "metadata": {},
   "outputs": [
    {
     "data": {
      "text/plain": [
       "30"
      ]
     },
     "execution_count": 5,
     "metadata": {},
     "output_type": "execute_result"
    }
   ],
   "source": [
    "# py_Dict[\"pune\"] returns same value\n",
    "a=py_Dict[\"pune\"]  \n",
    "a"
   ]
  },
  {
   "cell_type": "code",
   "execution_count": 6,
   "metadata": {},
   "outputs": [
    {
     "data": {
      "text/plain": [
       "30"
      ]
     },
     "execution_count": 6,
     "metadata": {},
     "output_type": "execute_result"
    }
   ],
   "source": [
    "py_Dict.get(\"pune\")"
   ]
  },
  {
   "cell_type": "code",
   "execution_count": 11,
   "metadata": {},
   "outputs": [
    {
     "data": {
      "text/plain": [
       "4"
      ]
     },
     "execution_count": 11,
     "metadata": {},
     "output_type": "execute_result"
    }
   ],
   "source": [
    "b=len(py_Dict)\n",
    "b"
   ]
  },
  {
   "cell_type": "code",
   "execution_count": 12,
   "metadata": {},
   "outputs": [
    {
     "data": {
      "text/plain": [
       "{'pune': 30,\n",
       " 'satara': 67,\n",
       " 'mumbai': 90,\n",
       " 'sangli': 78.89,\n",
       " 'other': [89, 90, 78]}"
      ]
     },
     "execution_count": 12,
     "metadata": {},
     "output_type": "execute_result"
    }
   ],
   "source": [
    "py_Dict1={\"pune\":30,\"satara\":67,\"mumbai\":90,\"sangli\":78.89,\"other\":[89,90,78]}\n",
    "py_Dict1\n"
   ]
  },
  {
   "cell_type": "code",
   "execution_count": 13,
   "metadata": {},
   "outputs": [
    {
     "data": {
      "text/plain": [
       "{'pune': 30,\n",
       " 'satara': 67,\n",
       " 'mumbai': 90,\n",
       " 'sangli': 78.89,\n",
       " 'other': ['not contain value']}"
      ]
     },
     "execution_count": 13,
     "metadata": {},
     "output_type": "execute_result"
    }
   ],
   "source": [
    "py_Dict2={\"pune\":30,\"satara\":67,\"mumbai\":90,\"sangli\":78.89,\"other\":[\"not contain value\"]}\n",
    "py_Dict2\n"
   ]
  },
  {
   "cell_type": "code",
   "execution_count": 14,
   "metadata": {},
   "outputs": [
    {
     "data": {
      "text/plain": [
       "dict_keys(['pune', 'satara', 'mumbai', 'sangli', 'other'])"
      ]
     },
     "execution_count": 14,
     "metadata": {},
     "output_type": "execute_result"
    }
   ],
   "source": [
    "py_Dict2.keys()"
   ]
  },
  {
   "cell_type": "code",
   "execution_count": 15,
   "metadata": {},
   "outputs": [
    {
     "data": {
      "text/plain": [
       "dict_values([30, 67, 90, 78.89, ['not contain value']])"
      ]
     },
     "execution_count": 15,
     "metadata": {},
     "output_type": "execute_result"
    }
   ],
   "source": [
    "py_Dict2.values()"
   ]
  },
  {
   "cell_type": "code",
   "execution_count": 18,
   "metadata": {},
   "outputs": [
    {
     "data": {
      "text/plain": [
       "dict_keys(['pune', 'satara', 'mumbai', 'sangli', 'other', 'Nashik'])"
      ]
     },
     "execution_count": 18,
     "metadata": {},
     "output_type": "execute_result"
    }
   ],
   "source": [
    "py_Dict2[\"Nashik\"]=[80]\n",
    "x=py_Dict2.keys()\n",
    "x"
   ]
  },
  {
   "cell_type": "code",
   "execution_count": 19,
   "metadata": {},
   "outputs": [
    {
     "data": {
      "text/plain": [
       "dict_items([('pune', 30), ('satara', 67), ('mumbai', 90), ('sangli', 78.89), ('other', ['not contain value']), ('Nashik', [80])])"
      ]
     },
     "execution_count": 19,
     "metadata": {},
     "output_type": "execute_result"
    }
   ],
   "source": [
    "# methods of dict\n",
    "py_Dict2.items()"
   ]
  },
  {
   "cell_type": "code",
   "execution_count": 21,
   "metadata": {},
   "outputs": [
    {
     "data": {
      "text/plain": [
       "{'pune': 30,\n",
       " 'satara': 67,\n",
       " 'mumbai': 90,\n",
       " 'sangli': 78.89,\n",
       " 'other': ['not contain value'],\n",
       " 'Nashik': [80],\n",
       " 'A.nagar': 14}"
      ]
     },
     "execution_count": 21,
     "metadata": {},
     "output_type": "execute_result"
    }
   ],
   "source": [
    "# update\n",
    "py_Dict2.update({\"A.nagar\":14})\n",
    "py_Dict2"
   ]
  },
  {
   "cell_type": "code",
   "execution_count": 23,
   "metadata": {},
   "outputs": [
    {
     "data": {
      "text/plain": [
       "{'pune': 30,\n",
       " 'satara': 67,\n",
       " 'mumbai': 90,\n",
       " 'sangli': 78.89,\n",
       " 'other': ['not contain value'],\n",
       " 'Nashik': [80],\n",
       " 'A.nagar': 14}"
      ]
     },
     "execution_count": 23,
     "metadata": {},
     "output_type": "execute_result"
    }
   ],
   "source": [
    "new_Dict=py_Dict2.copy()\n",
    "new_Dict"
   ]
  },
  {
   "cell_type": "code",
   "execution_count": 24,
   "metadata": {},
   "outputs": [
    {
     "data": {
      "text/plain": [
       "{'pune': 30,\n",
       " 'satara': 67,\n",
       " 'mumbai': 90,\n",
       " 'sangli': 78.89,\n",
       " 'other': [89, 90, 78],\n",
       " 'Nashik': [80],\n",
       " 'A.nagar': 14}"
      ]
     },
     "execution_count": 24,
     "metadata": {},
     "output_type": "execute_result"
    }
   ],
   "source": [
    "py_Dict2.update(py_Dict1)\n",
    "py_Dict2"
   ]
  },
  {
   "cell_type": "code",
   "execution_count": 25,
   "metadata": {},
   "outputs": [
    {
     "data": {
      "text/plain": [
       "{'pune': 30,\n",
       " 'satara': 67,\n",
       " 'mumbai': 90,\n",
       " 'sangli': 78.89,\n",
       " 'other': ['not contain value'],\n",
       " 'Nashik': [80]}"
      ]
     },
     "execution_count": 25,
     "metadata": {},
     "output_type": "execute_result"
    }
   ],
   "source": [
    "new_Dict.pop(\"A.nagar\")\n",
    "new_Dict"
   ]
  },
  {
   "cell_type": "code",
   "execution_count": 27,
   "metadata": {},
   "outputs": [
    {
     "data": {
      "text/plain": [
       "{'pune': 30,\n",
       " 'satara': 67,\n",
       " 'mumbai': 90,\n",
       " 'sangli': 78.89,\n",
       " 'other': ['not contain value']}"
      ]
     },
     "execution_count": 27,
     "metadata": {},
     "output_type": "execute_result"
    }
   ],
   "source": [
    "new_Dict.popitem()\n",
    "new_Dict"
   ]
  },
  {
   "cell_type": "code",
   "execution_count": 30,
   "metadata": {},
   "outputs": [
    {
     "data": {
      "text/plain": [
       "{'satara': 67, 'mumbai': 90, 'sangli': 78.89, 'other': ['not contain value']}"
      ]
     },
     "execution_count": 30,
     "metadata": {},
     "output_type": "execute_result"
    }
   ],
   "source": [
    "del new_Dict[\"pune\"]\n",
    "new_Dict"
   ]
  },
  {
   "cell_type": "code",
   "execution_count": 31,
   "metadata": {},
   "outputs": [
    {
     "name": "stdout",
     "output_type": "stream",
     "text": [
      "satara\n",
      "mumbai\n",
      "sangli\n",
      "other\n"
     ]
    }
   ],
   "source": [
    "for x in new_Dict:\n",
    "    print(x)"
   ]
  },
  {
   "cell_type": "code",
   "execution_count": 33,
   "metadata": {},
   "outputs": [
    {
     "name": "stdout",
     "output_type": "stream",
     "text": [
      "67\n",
      "90\n",
      "78.89\n",
      "['not contain value']\n"
     ]
    }
   ],
   "source": [
    "for x in new_Dict.values():\n",
    "    print(x)"
   ]
  },
  {
   "cell_type": "code",
   "execution_count": null,
   "metadata": {},
   "outputs": [],
   "source": []
  }
 ],
 "metadata": {
  "kernelspec": {
   "display_name": "Python 3",
   "language": "python",
   "name": "python3"
  },
  "language_info": {
   "codemirror_mode": {
    "name": "ipython",
    "version": 3
   },
   "file_extension": ".py",
   "mimetype": "text/x-python",
   "name": "python",
   "nbconvert_exporter": "python",
   "pygments_lexer": "ipython3",
   "version": "3.8.5"
  }
 },
 "nbformat": 4,
 "nbformat_minor": 4
}
