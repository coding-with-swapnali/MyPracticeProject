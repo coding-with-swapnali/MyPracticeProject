{
 "cells": [
  {
   "cell_type": "code",
   "execution_count": 12,
   "metadata": {},
   "outputs": [],
   "source": [
    "# decorator\n",
    "def main_Welcome(func):\n",
    "    def sub_Welcome():\n",
    "        print('*'*100)\n",
    "        print(\"In sub welcome function\")\n",
    "        func()\n",
    "        print('*'*100)\n",
    "    return sub_Welcome()\n"
   ]
  },
  {
   "cell_type": "code",
   "execution_count": 13,
   "metadata": {},
   "outputs": [
    {
     "name": "stdout",
     "output_type": "stream",
     "text": [
      "****************************************************************************************************\n",
      "In sub welcome function\n",
      "Hiiii ,i m in Welcome function\n",
      "****************************************************************************************************\n"
     ]
    }
   ],
   "source": [
    "@main_Welcome\n",
    "def Welcome():\n",
    "    print(\"Hiiii ,i m in Welcome function\")\n",
    "    "
   ]
  },
  {
   "cell_type": "code",
   "execution_count": 10,
   "metadata": {},
   "outputs": [
    {
     "name": "stdout",
     "output_type": "stream",
     "text": [
      "In sub welcome function\n",
      "Hiiii ,i m in Welcome function\n"
     ]
    }
   ],
   "source": [
    "main_Welcome(Welcome)"
   ]
  },
  {
   "cell_type": "code",
   "execution_count": 54,
   "metadata": {},
   "outputs": [],
   "source": [
    "class Vehicle():\n",
    "    def __init__(self,tyres,engine_Type):\n",
    "        self.tyres=tyres\n",
    "        self.engine_Type=engine_Type\n",
    "    def show(self):\n",
    "        print('No.of Tyres are:',self.tyres,\"\\nVehicle's type is:\",self.engine_Type)\n",
    "        f\"No of tyres is:\""
   ]
  },
  {
   "cell_type": "code",
   "execution_count": 55,
   "metadata": {},
   "outputs": [],
   "source": [
    "class Car(Vehicle):\n",
    "    def __init__(self,tyres,engine_Type,Mileage,Cost):\n",
    "        super().__init__(tyres,engine_Type)\n",
    "        self.Mileage=Mileage\n",
    "        self.Cost=Cost\n",
    "    def drive(self):\n",
    "        print('Mileage is:',self.Mileage)\n",
    "        print(\"Cost of vehicle is:\",self.Cost)"
   ]
  },
  {
   "cell_type": "code",
   "execution_count": 56,
   "metadata": {
    "scrolled": true
   },
   "outputs": [],
   "source": [
    "Alto=Car(4,\"Petrol\",\"20Km/hr\",\"4 Lakh\")"
   ]
  },
  {
   "cell_type": "code",
   "execution_count": 57,
   "metadata": {},
   "outputs": [
    {
     "name": "stdout",
     "output_type": "stream",
     "text": [
      "No.of Tyres are: 4 \n",
      "Vehicle's type is: Petrol\n",
      "Mileage is: 20Km/hr\n",
      "Cost of vehicle is: 4 Lakh\n"
     ]
    }
   ],
   "source": [
    "\n",
    "Alto.show()\n",
    "Alto.drive()"
   ]
  },
  {
   "cell_type": "code",
   "execution_count": 58,
   "metadata": {},
   "outputs": [],
   "source": [
    "class A():\n",
    "    def method1(self):\n",
    "        print(\"In method 1 of class A\")"
   ]
  },
  {
   "cell_type": "code",
   "execution_count": null,
   "metadata": {},
   "outputs": [],
   "source": [
    "class B(A):\n",
    "    def method1(self):\n",
    "        print(\"method 1 od class B\")"
   ]
  }
 ],
 "metadata": {
  "kernelspec": {
   "display_name": "Python 3",
   "language": "python",
   "name": "python3"
  },
  "language_info": {
   "codemirror_mode": {
    "name": "ipython",
    "version": 3
   },
   "file_extension": ".py",
   "mimetype": "text/x-python",
   "name": "python",
   "nbconvert_exporter": "python",
   "pygments_lexer": "ipython3",
   "version": "3.8.5"
  }
 },
 "nbformat": 4,
 "nbformat_minor": 4
}
