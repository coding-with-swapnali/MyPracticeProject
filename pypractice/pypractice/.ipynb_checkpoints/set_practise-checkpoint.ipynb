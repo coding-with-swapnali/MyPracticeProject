{
 "cells": [
  {
   "cell_type": "code",
   "execution_count": null,
   "metadata": {},
   "outputs": [],
   "source": [
    "py_set={1,2,3,45,\"apple\",\"Dog\",8-9j}\n",
    "py_set\n",
    "\n",
    "py_set.add(\"satara\")\n",
    "\n",
    "py_set\n",
    "\n",
    "print(len(py_set))\n",
    "\n",
    "py_set.add(\"satara\")\n",
    "\n",
    "py_set\n",
    "\n",
    "py_set.add(1)\n",
    "py_set\n",
    "\n",
    "type(py_set)\n",
    "\n",
    "# set items data types\n",
    "set1 = {\"apple\", \"banana\", \"cherry\"}   \n",
    "set2 = {1, 5, 7, 9, 3}         \n",
    "set3 = {True, False, False} \n",
    "\n",
    "print(set1)\n",
    "print(set2)\n",
    "print(set3)\n",
    "print(py_set)\n",
    "\n",
    "# using set constructor\n",
    "new_Set=set((1,2,\"pune\",\"java\",6-7j,78.89))\n",
    "print(new_Set)\n",
    "\n",
    "# access set items\n",
    "for x in new_Set:\n",
    "     print(x)\n",
    "\n",
    "if \"java\" in new_Set:\n",
    "    print(\"present\")\n",
    "      \n",
    "\n",
    "\n",
    "\n"
   ]
  }
 ],
 "metadata": {
  "kernelspec": {
   "display_name": "Python 3",
   "language": "python",
   "name": "python3"
  },
  "language_info": {
   "codemirror_mode": {
    "name": "ipython",
    "version": 3
   },
   "file_extension": ".py",
   "mimetype": "text/x-python",
   "name": "python",
   "nbconvert_exporter": "python",
   "pygments_lexer": "ipython3",
   "version": "3.8.5"
  }
 },
 "nbformat": 4,
 "nbformat_minor": 4
}
