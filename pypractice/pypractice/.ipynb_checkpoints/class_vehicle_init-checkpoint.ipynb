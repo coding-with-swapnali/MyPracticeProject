{
 "cells": [
  {
   "cell_type": "code",
   "execution_count": null,
   "metadata": {},
   "outputs": [],
   "source": [
    "# class using _init_() function\n",
    "class employee:\n",
    "    def _init_(self,name,age,gender,salary):\n",
    "         self.name=name\n",
    "         self.age=age\n",
    "         self.gender=gender\n",
    "         self.salary=salary\n",
    "            \n",
    "            \n",
    "    def show_details_employee(self):\n",
    "         print(\"name of employee\",self.name)\n",
    "         print(\"age of employee\",self.age)\n",
    "         print(\"Gender of employee\",self.gender)\n",
    "         print(\"salary of employee\",self.salary)\n",
    "    "
   ]
  }
 ],
 "metadata": {
  "kernelspec": {
   "display_name": "Python 3",
   "language": "python",
   "name": "python3"
  },
  "language_info": {
   "codemirror_mode": {
    "name": "ipython",
    "version": 3
   },
   "file_extension": ".py",
   "mimetype": "text/x-python",
   "name": "python",
   "nbconvert_exporter": "python",
   "pygments_lexer": "ipython3",
   "version": "3.8.5"
  }
 },
 "nbformat": 4,
 "nbformat_minor": 4
}
