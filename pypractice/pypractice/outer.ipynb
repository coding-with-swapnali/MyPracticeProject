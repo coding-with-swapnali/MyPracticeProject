{
 "cells": [
  {
   "cell_type": "code",
   "execution_count": 8,
   "metadata": {},
   "outputs": [],
   "source": [
    "def outer():\n",
    "    print(\"i m in outer\")\n",
    "    def inner():\n",
    "        print(\"i m in inner\")\n",
    "    return  inner\n",
    "    print(\"at end of outer\")"
   ]
  },
  {
   "cell_type": "code",
   "execution_count": 9,
   "metadata": {},
   "outputs": [
    {
     "name": "stdout",
     "output_type": "stream",
     "text": [
      "i m in outer\n"
     ]
    },
    {
     "data": {
      "text/plain": [
       "<function __main__.outer.<locals>.inner()>"
      ]
     },
     "execution_count": 9,
     "metadata": {},
     "output_type": "execute_result"
    }
   ],
   "source": [
    "outer()"
   ]
  },
  {
   "cell_type": "code",
   "execution_count": 10,
   "metadata": {},
   "outputs": [
    {
     "name": "stdout",
     "output_type": "stream",
     "text": [
      "i m in outer\n"
     ]
    }
   ],
   "source": [
    "f1=outer()"
   ]
  },
  {
   "cell_type": "code",
   "execution_count": 12,
   "metadata": {},
   "outputs": [
    {
     "name": "stdout",
     "output_type": "stream",
     "text": [
      "i m in inner\n"
     ]
    }
   ],
   "source": [
    "f1()"
   ]
  },
  {
   "cell_type": "code",
   "execution_count": 19,
   "metadata": {},
   "outputs": [],
   "source": [
    "def decor(func):\n",
    "    def inner():\n",
    "        a=func()\n",
    "        a=a+10\n",
    "        return a\n",
    "    return inner\n",
    "\n",
    "        \n",
    "            "
   ]
  },
  {
   "cell_type": "code",
   "execution_count": 20,
   "metadata": {},
   "outputs": [],
   "source": [
    "@decor\n",
    "def num():\n",
    "    return 10"
   ]
  },
  {
   "cell_type": "code",
   "execution_count": 22,
   "metadata": {},
   "outputs": [
    {
     "data": {
      "text/plain": [
       "20"
      ]
     },
     "execution_count": 22,
     "metadata": {},
     "output_type": "execute_result"
    }
   ],
   "source": [
    "num()"
   ]
  },
  {
   "cell_type": "code",
   "execution_count": 76,
   "metadata": {},
   "outputs": [],
   "source": [
    "def welcome():\n",
    "    msg = \"Welcome\"\n",
    "    \n",
    "def decor(welcome):\n",
    "    def indecor():\n",
    "        print('start of  Indecor')\n",
    "        welcome()\n",
    "        print('start of  Indecor')\n",
    "    return indecor()    "
   ]
  },
  {
   "cell_type": "code",
   "execution_count": 77,
   "metadata": {},
   "outputs": [
    {
     "name": "stdout",
     "output_type": "stream",
     "text": [
      "start of  Indecor\n",
      "start of  Indecor\n"
     ]
    }
   ],
   "source": [
    "decor(welcome)"
   ]
  },
  {
   "cell_type": "code",
   "execution_count": 78,
   "metadata": {},
   "outputs": [],
   "source": [
    "def welcome():\n",
    "    msg = 'Hello'\n",
    "    def sub_Welcome():\n",
    "        print(\"Hiii in start of sub_Wlcome\")\n",
    "        print(msg)\n",
    "        print(\"Hi at the end of sub welcome\")\n",
    "    return sub_Welcome()"
   ]
  },
  {
   "cell_type": "code",
   "execution_count": 79,
   "metadata": {},
   "outputs": [
    {
     "data": {
      "text/plain": [
       "<function __main__.welcome()>"
      ]
     },
     "execution_count": 79,
     "metadata": {},
     "output_type": "execute_result"
    }
   ],
   "source": [
    "welcome"
   ]
  },
  {
   "cell_type": "code",
   "execution_count": 80,
   "metadata": {},
   "outputs": [
    {
     "name": "stdout",
     "output_type": "stream",
     "text": [
      "Hiii in start of sub_Wlcome\n",
      "Hello\n",
      "Hi at the end of sub welcome\n"
     ]
    }
   ],
   "source": [
    "a =welcome()"
   ]
  },
  {
   "cell_type": "code",
   "execution_count": 81,
   "metadata": {},
   "outputs": [],
   "source": [
    "def outer(msg):\n",
    "#     msg = \"Middle \"\n",
    "    def inner():\n",
    "        print(\"start \")\n",
    "        print(msg)\n",
    "        print(\"at end\")\n",
    "    return inner()    "
   ]
  },
  {
   "cell_type": "code",
   "execution_count": 82,
   "metadata": {},
   "outputs": [
    {
     "name": "stdout",
     "output_type": "stream",
     "text": [
      "start \n",
      "middle \n",
      "at end\n"
     ]
    }
   ],
   "source": [
    " outer(\"middle \")"
   ]
  },
  {
   "cell_type": "code",
   "execution_count": 83,
   "metadata": {},
   "outputs": [
    {
     "name": "stdout",
     "output_type": "stream",
     "text": [
      "start of  Indecor\n",
      "Hello\n",
      "start of  Indecor\n"
     ]
    }
   ],
   "source": [
    "@decor\n",
    "def display():\n",
    "    print(\"Hello\")\n",
    "    \n",
    "def decor(display):\n",
    "    def inner():\n",
    "        print('*'*30)\n",
    "        display()\n",
    "        print('*'*30)\n",
    "    return inner()    "
   ]
  },
  {
   "cell_type": "code",
   "execution_count": 152,
   "metadata": {},
   "outputs": [
    {
     "name": "stdout",
     "output_type": "stream",
     "text": [
      "HIII\n"
     ]
    }
   ],
   "source": []
  },
  {
   "cell_type": "code",
   "execution_count": 155,
   "metadata": {},
   "outputs": [
    {
     "name": "stdout",
     "output_type": "stream",
     "text": [
      "HII\n"
     ]
    }
   ],
   "source": [
    "@add\n",
    "def disp():\n",
    "    print(\"HII\")\n",
    "\n",
    "\n",
    "def add(disp):\n",
    "    def inside_add():\n",
    "        a =disp\n",
    "    return inside_add()    "
   ]
  },
  {
   "cell_type": "code",
   "execution_count": 157,
   "metadata": {},
   "outputs": [
    {
     "ename": "TypeError",
     "evalue": "'NoneType' object is not callable",
     "output_type": "error",
     "traceback": [
      "\u001b[1;31m---------------------------------------------------------------------------\u001b[0m",
      "\u001b[1;31mTypeError\u001b[0m                                 Traceback (most recent call last)",
      "\u001b[1;32m<ipython-input-157-78cc1b464075>\u001b[0m in \u001b[0;36m<module>\u001b[1;34m\u001b[0m\n\u001b[1;32m----> 1\u001b[1;33m \u001b[0mdisp\u001b[0m\u001b[1;33m(\u001b[0m\u001b[1;33m)\u001b[0m\u001b[1;33m\u001b[0m\u001b[1;33m\u001b[0m\u001b[0m\n\u001b[0m",
      "\u001b[1;31mTypeError\u001b[0m: 'NoneType' object is not callable"
     ]
    }
   ],
   "source": []
  },
  {
   "cell_type": "code",
   "execution_count": 164,
   "metadata": {},
   "outputs": [],
   "source": [
    "# @decor\n",
    "def func1():\n",
    "    print(\"In func 1\")\n",
    "    \n",
    "    \n",
    "    \n",
    "def decor(func1):\n",
    "    def in_decor():\n",
    "        print(\"start of inside function\")\n",
    "        func1()\n",
    "        print(\"end of inside function\")\n",
    "    return in_decor()    \n",
    "            "
   ]
  },
  {
   "cell_type": "code",
   "execution_count": 165,
   "metadata": {},
   "outputs": [
    {
     "name": "stdout",
     "output_type": "stream",
     "text": [
      "start of inside function\n",
      "In func 1\n",
      "end of inside function\n"
     ]
    }
   ],
   "source": [
    "decor(func1)"
   ]
  },
  {
   "cell_type": "code",
   "execution_count": 25,
   "metadata": {},
   "outputs": [],
   "source": [
    "def main_Welcome(func):\n",
    "    def sub_Welcome():\n",
    "        print(\"At the starting of Sub function\")\n",
    "        welcome()\n",
    "        print(\"At the end of sub function\")\n",
    "    return sub_Welcome()    \n",
    "    "
   ]
  },
  {
   "cell_type": "code",
   "execution_count": null,
   "metadata": {},
   "outputs": [],
   "source": []
  },
  {
   "cell_type": "code",
   "execution_count": 26,
   "metadata": {},
   "outputs": [],
   "source": [
    "def Welcome2(func):\n",
    "    def sub_welcome2():\n",
    "        print('*'*50)\n",
    "        welcome()\n",
    "        print('*'*50)\n",
    "    return sub_welcome2()\n"
   ]
  },
  {
   "cell_type": "code",
   "execution_count": 33,
   "metadata": {},
   "outputs": [
    {
     "name": "stdout",
     "output_type": "stream",
     "text": [
      "At the starting of Sub function\n",
      "Welcome to new function\n",
      "At the end of sub function\n",
      "**************************************************\n",
      "Welcome to new function\n",
      "**************************************************\n"
     ]
    }
   ],
   "source": [
    "@Welcome2\n",
    "@main_Welcome\n",
    "def welcome():\n",
    "    print(\"Welcome to new function\")"
   ]
  },
  {
   "cell_type": "code",
   "execution_count": 32,
   "metadata": {},
   "outputs": [
    {
     "name": "stdout",
     "output_type": "stream",
     "text": [
      "**************************************************\n",
      "Welcome to new function\n",
      "**************************************************\n",
      "At the starting of Sub function\n",
      "Welcome to new function\n",
      "At the end of sub function\n"
     ]
    }
   ],
   "source": [
    "Welcome2(welcome)\n",
    "main_Welcome(welcome)"
   ]
  },
  {
   "cell_type": "code",
   "execution_count": null,
   "metadata": {},
   "outputs": [],
   "source": []
  }
 ],
 "metadata": {
  "kernelspec": {
   "display_name": "Python 3",
   "language": "python",
   "name": "python3"
  },
  "language_info": {
   "codemirror_mode": {
    "name": "ipython",
    "version": 3
   },
   "file_extension": ".py",
   "mimetype": "text/x-python",
   "name": "python",
   "nbconvert_exporter": "python",
   "pygments_lexer": "ipython3",
   "version": "3.8.5"
  }
 },
 "nbformat": 4,
 "nbformat_minor": 4
}
