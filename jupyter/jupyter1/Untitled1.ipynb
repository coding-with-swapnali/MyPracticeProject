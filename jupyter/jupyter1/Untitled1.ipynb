{
 "cells": [
  {
   "cell_type": "code",
   "execution_count": 33,
   "id": "ecdfb659",
   "metadata": {},
   "outputs": [],
   "source": [
    "a=[14,5,6,12] #b =10, if b occurs in a, return index of a where b has occurred. else -1"
   ]
  },
  {
   "cell_type": "code",
   "execution_count": 36,
   "id": "0042ba88",
   "metadata": {},
   "outputs": [
    {
     "name": "stdout",
     "output_type": "stream",
     "text": [
      "1\n",
      "1\n",
      "1\n",
      "1\n"
     ]
    }
   ],
   "source": [
    "b = 5\n",
    "index = 0\n",
    "dict1 = {}\n",
    "for i in a:\n",
    "    if b in a:\n",
    "        print(a.index(b))\n",
    "    else:\n",
    "        print(\"-1\")\n",
    "        \n",
    "    "
   ]
  },
  {
   "cell_type": "code",
   "execution_count": 21,
   "id": "5d92700d",
   "metadata": {},
   "outputs": [
    {
     "data": {
      "text/plain": [
       "[0, 1, 2, 3]"
      ]
     },
     "execution_count": 21,
     "metadata": {},
     "output_type": "execute_result"
    }
   ],
   "source": [
    "a=[14,5,6,12]\n"
   ]
  },
  {
   "cell_type": "code",
   "execution_count": null,
   "id": "3d16a170",
   "metadata": {},
   "outputs": [],
   "source": [
    "for i in range(len(a):\n",
    "    for j in range(i+1,len(a)):\n",
    "               if a[i]<a[j]:\n",
    "                   \n",
    "    "
   ]
  },
  {
   "cell_type": "code",
   "execution_count": 28,
   "id": "a50e16d0",
   "metadata": {},
   "outputs": [],
   "source": [
    "a=[\"cat\",\"rat\",\"cat\"]#, out put should be cat-=>2, rat=>1"
   ]
  },
  {
   "cell_type": "code",
   "execution_count": 29,
   "id": "cdae3eb0",
   "metadata": {},
   "outputs": [
    {
     "data": {
      "text/plain": [
       "Counter({'cat': 2, 'rat': 1})"
      ]
     },
     "execution_count": 29,
     "metadata": {},
     "output_type": "execute_result"
    }
   ],
   "source": [
    "from collections import Counter\n",
    "a_new = Counter(a)\n",
    "a_new"
   ]
  },
  {
   "cell_type": "code",
   "execution_count": 43,
   "id": "8a87a23b",
   "metadata": {},
   "outputs": [
    {
     "ename": "TypeError",
     "evalue": "unsupported operand type(s) for /: 'type' and 'type'",
     "output_type": "error",
     "traceback": [
      "\u001b[1;31m---------------------------------------------------------------------------\u001b[0m",
      "\u001b[1;31mTypeError\u001b[0m                                 Traceback (most recent call last)",
      "Input \u001b[1;32mIn [43]\u001b[0m, in \u001b[0;36m<cell line: 5>\u001b[1;34m()\u001b[0m\n\u001b[0;32m      3\u001b[0m \u001b[38;5;66;03m#convert obj to str\u001b[39;00m\n\u001b[0;32m      4\u001b[0m s \u001b[38;5;241m=\u001b[39m json\u001b[38;5;241m.\u001b[39mdumps(obj)\n\u001b[1;32m----> 5\u001b[0m \u001b[38;5;28;43mtype\u001b[39;49m\u001b[43m(\u001b[49m\u001b[43ms\u001b[49m\u001b[43m)\u001b[49m\u001b[38;5;241;43m/\u001b[39;49m\u001b[38;5;28;43mtype\u001b[39;49m\u001b[43m(\u001b[49m\u001b[43mobj\u001b[49m\u001b[43m)\u001b[49m\n",
      "\u001b[1;31mTypeError\u001b[0m: unsupported operand type(s) for /: 'type' and 'type'"
     ]
    }
   ],
   "source": [
    "import json\n",
    "obj ={\"id\":1111, 'pound':'12GBP'}\n",
    "#convert obj to str\n",
    "s = json.dumps(obj)\n",
    "type(s)\n",
    "json."
   ]
  },
  {
   "cell_type": "code",
   "execution_count": null,
   "id": "dea5117c",
   "metadata": {},
   "outputs": [],
   "source": []
  }
 ],
 "metadata": {
  "kernelspec": {
   "display_name": "Python 3 (ipykernel)",
   "language": "python",
   "name": "python3"
  },
  "language_info": {
   "codemirror_mode": {
    "name": "ipython",
    "version": 3
   },
   "file_extension": ".py",
   "mimetype": "text/x-python",
   "name": "python",
   "nbconvert_exporter": "python",
   "pygments_lexer": "ipython3",
   "version": "3.9.12"
  }
 },
 "nbformat": 4,
 "nbformat_minor": 5
}
