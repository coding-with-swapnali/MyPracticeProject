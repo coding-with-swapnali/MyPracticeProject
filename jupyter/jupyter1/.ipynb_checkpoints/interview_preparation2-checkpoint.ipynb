{
 "cells": [
  {
   "cell_type": "code",
   "execution_count": 41,
   "metadata": {},
   "outputs": [],
   "source": [
    "def outer1(func):   \n",
    "    def inner2():\n",
    "        print('inside inner,before enhancing')\n",
    "        func()\n",
    "        print('inside inner ,after enhancing')\n",
    "    return inner2()"
   ]
  },
  {
   "cell_type": "code",
   "execution_count": 42,
   "metadata": {},
   "outputs": [],
   "source": [
    "def outer2(func):   \n",
    "    def inner2():\n",
    "        print('----')\n",
    "        func()\n",
    "        print('----')\n",
    "    return inner2()"
   ]
  },
  {
   "cell_type": "code",
   "execution_count": 43,
   "metadata": {},
   "outputs": [],
   "source": [
    "\n",
    "def new1():\n",
    "    print('in new 1')"
   ]
  },
  {
   "cell_type": "code",
   "execution_count": 44,
   "metadata": {},
   "outputs": [
    {
     "name": "stdout",
     "output_type": "stream",
     "text": [
      "----\n",
      "in new 1\n",
      "----\n",
      "inside inner,before enhancing\n",
      "in new 1\n",
      "inside inner ,after enhancing\n"
     ]
    }
   ],
   "source": [
    "outer2(new1)\n",
    "outer1(new1)"
   ]
  },
  {
   "cell_type": "code",
   "execution_count": 69,
   "metadata": {},
   "outputs": [],
   "source": [
    "def permanent_Address(func):\n",
    "    def temp_Address():\n",
    "        print('inside inner function')\n",
    "        func() \n",
    "        print('after function enhancement')\n",
    "    return temp_Address()\n"
   ]
  },
  {
   "cell_type": "code",
   "execution_count": 70,
   "metadata": {},
   "outputs": [],
   "source": [
    "def new_Address():\n",
    "    print('inside new address')"
   ]
  },
  {
   "cell_type": "code",
   "execution_count": 71,
   "metadata": {},
   "outputs": [
    {
     "name": "stdout",
     "output_type": "stream",
     "text": [
      "inside inner function\n",
      "inside new address\n",
      "after function enhancement\n"
     ]
    }
   ],
   "source": [
    "permanent_Address(new_Address)"
   ]
  },
  {
   "cell_type": "markdown",
   "metadata": {},
   "source": [
    "# monkey Patch"
   ]
  },
  {
   "cell_type": "code",
   "execution_count": null,
   "metadata": {},
   "outputs": [],
   "source": []
  }
 ],
 "metadata": {
  "kernelspec": {
   "display_name": "Python 3",
   "language": "python",
   "name": "python3"
  },
  "language_info": {
   "codemirror_mode": {
    "name": "ipython",
    "version": 3
   },
   "file_extension": ".py",
   "mimetype": "text/x-python",
   "name": "python",
   "nbconvert_exporter": "python",
   "pygments_lexer": "ipython3",
   "version": "3.8.5"
  }
 },
 "nbformat": 4,
 "nbformat_minor": 4
}
